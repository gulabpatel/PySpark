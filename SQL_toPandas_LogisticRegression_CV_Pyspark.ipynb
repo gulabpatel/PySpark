{
  "nbformat": 4,
  "nbformat_minor": 0,
  "metadata": {
    "colab": {
      "name": "SQL_toPandas_LogisticRegression_CV_Pyspark.ipynb",
      "provenance": [],
      "collapsed_sections": [],
      "authorship_tag": "ABX9TyMo6GxahEdMPaOT26AwZU+J",
      "include_colab_link": true
    },
    "kernelspec": {
      "display_name": "Python 3",
      "name": "python3"
    }
  },
  "cells": [
    {
      "cell_type": "markdown",
      "metadata": {
        "id": "view-in-github",
        "colab_type": "text"
      },
      "source": [
        "<a href=\"https://colab.research.google.com/github/gulabpatel/PySpark/blob/main/SQL_toPandas_LogisticRegression_CV_Pyspark.ipynb\" target=\"_parent\"><img src=\"https://colab.research.google.com/assets/colab-badge.svg\" alt=\"Open In Colab\"/></a>"
      ]
    },
    {
      "cell_type": "code",
      "metadata": {
        "id": "ouvNotPzoa9t"
      },
      "source": [
        "##We have to load libraries before we start our analysis. \n",
        "import pandas as pd\n",
        "import numpy as np\n",
        "import seaborn as sns\n",
        "import warnings\n",
        "warnings.filterwarnings('ignore')\n",
        "import matplotlib.pyplot as plt\n",
        "%matplotlib inline"
      ],
      "execution_count": null,
      "outputs": []
    },
    {
      "cell_type": "code",
      "metadata": {
        "id": "jab9TRmnyJn2",
        "outputId": "893811de-d499-46c5-81a7-50f905bc02f5",
        "colab": {
          "base_uri": "https://localhost:8080/",
          "height": 258
        }
      },
      "source": [
        "!pip install pyspark"
      ],
      "execution_count": null,
      "outputs": [
        {
          "output_type": "stream",
          "text": [
            "Collecting pyspark\n",
            "\u001b[?25l  Downloading https://files.pythonhosted.org/packages/f0/26/198fc8c0b98580f617cb03cb298c6056587b8f0447e20fa40c5b634ced77/pyspark-3.0.1.tar.gz (204.2MB)\n",
            "\u001b[K     |████████████████████████████████| 204.2MB 55kB/s \n",
            "\u001b[?25hCollecting py4j==0.10.9\n",
            "\u001b[?25l  Downloading https://files.pythonhosted.org/packages/9e/b6/6a4fb90cd235dc8e265a6a2067f2a2c99f0d91787f06aca4bcf7c23f3f80/py4j-0.10.9-py2.py3-none-any.whl (198kB)\n",
            "\u001b[K     |████████████████████████████████| 204kB 23.6MB/s \n",
            "\u001b[?25hBuilding wheels for collected packages: pyspark\n",
            "  Building wheel for pyspark (setup.py) ... \u001b[?25l\u001b[?25hdone\n",
            "  Created wheel for pyspark: filename=pyspark-3.0.1-py2.py3-none-any.whl size=204612243 sha256=c0baf7d18b152680f89b6704063e98ce46d00ee45bb17baf52fc15b863b5d87b\n",
            "  Stored in directory: /root/.cache/pip/wheels/5e/bd/07/031766ca628adec8435bb40f0bd83bb676ce65ff4007f8e73f\n",
            "Successfully built pyspark\n",
            "Installing collected packages: py4j, pyspark\n",
            "Successfully installed py4j-0.10.9 pyspark-3.0.1\n"
          ],
          "name": "stdout"
        }
      ]
    },
    {
      "cell_type": "code",
      "metadata": {
        "id": "RzvjRCtDx6vj"
      },
      "source": [
        "from pyspark.sql.types import *\n",
        "from pyspark.sql import Row\n",
        "#from pyspark.sql import SparkSession, SQLContext\n",
        "from pyspark import SparkContext\n",
        "from pyspark import SQLContext"
      ],
      "execution_count": null,
      "outputs": []
    },
    {
      "cell_type": "code",
      "metadata": {
        "id": "j2_Z8qOCoa92"
      },
      "source": [
        "sc = SparkContext()"
      ],
      "execution_count": null,
      "outputs": []
    },
    {
      "cell_type": "code",
      "metadata": {
        "id": "aPILDDq5zxRT"
      },
      "source": [
        "spark = SQLContext(sc)"
      ],
      "execution_count": null,
      "outputs": []
    },
    {
      "cell_type": "code",
      "metadata": {
        "id": "K-xEv8MiIsEL"
      },
      "source": [
        "#File location type\n",
        "file_location = \"/content/Churn.csv\"\n",
        "file_type = \"csv\"\n",
        "\n",
        "#CSV options\n",
        "infer_schema = \"true\"\n",
        "first_row_is_header = \"true\"\n",
        "delimiter = \",\"\n",
        "\n",
        "df = spark.read.format(file_type) \\\n",
        "     .option(\"inferSchema\", infer_schema) \\\n",
        "     .option(\"header\", first_row_is_header) \\\n",
        "     .option(\"sep\", delimiter) \\\n",
        "     .option(\"nanValue\", ' ') \\\n",
        "     .option(\"nullValue\", ' ') \\\n",
        "     .load(file_location)"
      ],
      "execution_count": null,
      "outputs": []
    },
    {
      "cell_type": "code",
      "metadata": {
        "id": "1tCRkOO2jEJQ",
        "outputId": "2fad9c1d-a338-480d-d865-653735d96c0d",
        "colab": {
          "base_uri": "https://localhost:8080/",
          "height": 479
        }
      },
      "source": [
        "df.show()"
      ],
      "execution_count": null,
      "outputs": [
        {
          "output_type": "stream",
          "text": [
            "+------+--------------+-------+----------+-------------+-------------+----------------+----------------+-------------------+-------------------+-------------------+-------------------+-------------------+-------------------+--------------+-----------------+--------------------+---------------+-------------+-----------+\n",
            "|Gender|Senior_Citizen|Partner|Dependents|Tenure_Months|Phone_Service|  Multiple_Lines|Internet_Service|    Online_Security|      Online_Backup|  Device_Protection|       Tech_Support|       Streaming_TV|   Streaming_Movies|      Contract|Paperless_Billing|      Payment_Method|Monthly_Charges|Total_Charges|Churn_Label|\n",
            "+------+--------------+-------+----------+-------------+-------------+----------------+----------------+-------------------+-------------------+-------------------+-------------------+-------------------+-------------------+--------------+-----------------+--------------------+---------------+-------------+-----------+\n",
            "|  Male|            No|     No|        No|            2|          Yes|              No|             DSL|                Yes|                Yes|                 No|                 No|                 No|                 No|Month-to-month|              Yes|        Mailed check|          53.85|       108.15|        Yes|\n",
            "|Female|            No|     No|       Yes|            2|          Yes|              No|     Fiber optic|                 No|                 No|                 No|                 No|                 No|                 No|Month-to-month|              Yes|    Electronic check|           70.7|       151.65|        Yes|\n",
            "|Female|            No|     No|       Yes|            8|          Yes|             Yes|     Fiber optic|                 No|                 No|                Yes|                 No|                Yes|                Yes|Month-to-month|              Yes|    Electronic check|          99.65|        820.5|        Yes|\n",
            "|Female|            No|    Yes|       Yes|           28|          Yes|             Yes|     Fiber optic|                 No|                 No|                Yes|                Yes|                Yes|                Yes|Month-to-month|              Yes|    Electronic check|          104.8|      3046.05|        Yes|\n",
            "|  Male|            No|     No|       Yes|           49|          Yes|             Yes|     Fiber optic|                 No|                Yes|                Yes|                 No|                Yes|                Yes|Month-to-month|              Yes|Bank transfer (au...|          103.7|       5036.3|        Yes|\n",
            "|Female|            No|    Yes|        No|           10|          Yes|              No|             DSL|                 No|                 No|                Yes|                Yes|                 No|                 No|Month-to-month|               No|Credit card (auto...|           55.2|       528.35|        Yes|\n",
            "|  Male|           Yes|     No|        No|            1|           No|No phone service|             DSL|                 No|                 No|                Yes|                 No|                 No|                Yes|Month-to-month|              Yes|    Electronic check|          39.65|        39.65|        Yes|\n",
            "|  Male|            No|     No|        No|            1|          Yes|              No|              No|No internet service|No internet service|No internet service|No internet service|No internet service|No internet service|Month-to-month|               No|        Mailed check|          20.15|        20.15|        Yes|\n",
            "|  Male|            No|    Yes|       Yes|           47|          Yes|             Yes|     Fiber optic|                 No|                Yes|                 No|                 No|                Yes|                Yes|Month-to-month|              Yes|    Electronic check|          99.35|      4749.15|        Yes|\n",
            "|  Male|            No|    Yes|        No|            1|           No|No phone service|             DSL|                 No|                Yes|                 No|                 No|                 No|                 No|Month-to-month|               No|    Electronic check|           30.2|         30.2|        Yes|\n",
            "|Female|            No|     No|        No|           17|          Yes|              No|             DSL|                 No|                 No|                 No|                 No|                Yes|                Yes|Month-to-month|              Yes|        Mailed check|           64.7|       1093.1|        Yes|\n",
            "|  Male|            No|     No|       Yes|            5|          Yes|              No|     Fiber optic|                 No|                 No|                 No|                 No|                 No|                 No|Month-to-month|              Yes|    Electronic check|           69.7|        316.9|        Yes|\n",
            "|  Male|            No|     No|       Yes|           34|          Yes|             Yes|     Fiber optic|                 No|                Yes|                Yes|                 No|                Yes|                Yes|Month-to-month|              Yes|    Electronic check|         106.35|      3549.25|        Yes|\n",
            "|Female|            No|     No|       Yes|           11|          Yes|             Yes|     Fiber optic|                 No|                 No|                Yes|                 No|                Yes|                Yes|Month-to-month|              Yes|Bank transfer (au...|          97.85|       1105.4|        Yes|\n",
            "|Female|            No|     No|       Yes|            2|          Yes|              No|     Fiber optic|                 No|                 No|                 No|                 No|                Yes|                 No|Month-to-month|              Yes|    Electronic check|          80.65|       144.15|        Yes|\n",
            "|Female|            No|     No|       Yes|           15|          Yes|              No|     Fiber optic|                Yes|                Yes|                 No|                 No|                Yes|                Yes|Month-to-month|              Yes|Credit card (auto...|           99.1|       1426.4|        Yes|\n",
            "|Female|           Yes|    Yes|       Yes|            8|          Yes|             Yes|     Fiber optic|                 No|                Yes|                 No|                 No|                 No|                 No|Month-to-month|              Yes|Credit card (auto...|          80.65|        633.3|        Yes|\n",
            "|  Male|           Yes|     No|       Yes|           18|          Yes|             Yes|     Fiber optic|                 No|                 No|                 No|                 No|                Yes|                Yes|Month-to-month|              Yes|    Electronic check|          95.45|      1752.55|        Yes|\n",
            "|Female|            No|     No|       Yes|            9|          Yes|             Yes|     Fiber optic|                 No|                 No|                 No|                 No|                Yes|                Yes|Month-to-month|               No|    Electronic check|           94.4|       857.25|        Yes|\n",
            "|Female|            No|     No|       Yes|            1|          Yes|              No|     Fiber optic|                 No|                 No|                 No|                 No|                Yes|                 No|Month-to-month|              Yes|    Electronic check|          79.35|        79.35|        Yes|\n",
            "+------+--------------+-------+----------+-------------+-------------+----------------+----------------+-------------------+-------------------+-------------------+-------------------+-------------------+-------------------+--------------+-----------------+--------------------+---------------+-------------+-----------+\n",
            "only showing top 20 rows\n",
            "\n"
          ],
          "name": "stdout"
        }
      ]
    },
    {
      "cell_type": "code",
      "metadata": {
        "id": "4mgRgTCRvl83",
        "outputId": "e5ad6c1c-2959-4159-8796-59da438cb697",
        "colab": {
          "base_uri": "https://localhost:8080/",
          "height": 391
        }
      },
      "source": [
        "df.printSchema()"
      ],
      "execution_count": null,
      "outputs": [
        {
          "output_type": "stream",
          "text": [
            "root\n",
            " |-- Gender: string (nullable = true)\n",
            " |-- Senior_Citizen: string (nullable = true)\n",
            " |-- Partner: string (nullable = true)\n",
            " |-- Dependents: string (nullable = true)\n",
            " |-- Tenure_Months: integer (nullable = true)\n",
            " |-- Phone_Service: string (nullable = true)\n",
            " |-- Multiple_Lines: string (nullable = true)\n",
            " |-- Internet_Service: string (nullable = true)\n",
            " |-- Online_Security: string (nullable = true)\n",
            " |-- Online_Backup: string (nullable = true)\n",
            " |-- Device_Protection: string (nullable = true)\n",
            " |-- Tech_Support: string (nullable = true)\n",
            " |-- Streaming_TV: string (nullable = true)\n",
            " |-- Streaming_Movies: string (nullable = true)\n",
            " |-- Contract: string (nullable = true)\n",
            " |-- Paperless_Billing: string (nullable = true)\n",
            " |-- Payment_Method: string (nullable = true)\n",
            " |-- Monthly_Charges: double (nullable = true)\n",
            " |-- Total_Charges: double (nullable = true)\n",
            " |-- Churn_Label: string (nullable = true)\n",
            "\n"
          ],
          "name": "stdout"
        }
      ]
    },
    {
      "cell_type": "code",
      "metadata": {
        "id": "sTiCBsXnrtd6",
        "outputId": "5b0fe0b6-327b-4b06-8157-c088042834c6",
        "colab": {
          "base_uri": "https://localhost:8080/",
          "height": 139
        }
      },
      "source": [
        "#Check null values\n",
        "from pyspark.sql.functions import isnan, when, count, col\n",
        "df.select([count(when(isnan(c) | col(c).isNull(),c)).alias(c) for c in df.columns]).show()"
      ],
      "execution_count": null,
      "outputs": [
        {
          "output_type": "stream",
          "text": [
            "+------+--------------+-------+----------+-------------+-------------+--------------+----------------+---------------+-------------+-----------------+------------+------------+----------------+--------+-----------------+--------------+---------------+-------------+-----------+\n",
            "|Gender|Senior_Citizen|Partner|Dependents|Tenure_Months|Phone_Service|Multiple_Lines|Internet_Service|Online_Security|Online_Backup|Device_Protection|Tech_Support|Streaming_TV|Streaming_Movies|Contract|Paperless_Billing|Payment_Method|Monthly_Charges|Total_Charges|Churn_Label|\n",
            "+------+--------------+-------+----------+-------------+-------------+--------------+----------------+---------------+-------------+-----------------+------------+------------+----------------+--------+-----------------+--------------+---------------+-------------+-----------+\n",
            "|     0|             0|      0|         0|            0|            0|             0|               0|              0|            0|                0|           0|           0|               0|       0|                0|             0|              0|           11|          0|\n",
            "+------+--------------+-------+----------+-------------+-------------+--------------+----------------+---------------+-------------+-----------------+------------+------------+----------------+--------+-----------------+--------------+---------------+-------------+-----------+\n",
            "\n"
          ],
          "name": "stdout"
        }
      ]
    },
    {
      "cell_type": "code",
      "metadata": {
        "id": "RqHFFjTsCfRG"
      },
      "source": [
        "#We can also convert df to pandas dataframe\n",
        "pd_df = df.toPandas()"
      ],
      "execution_count": null,
      "outputs": []
    },
    {
      "cell_type": "code",
      "metadata": {
        "id": "exJUpBuEDNj2",
        "outputId": "59c957cb-fa0d-40cb-a406-09f13d2f4837",
        "colab": {
          "base_uri": "https://localhost:8080/",
          "height": 119
        }
      },
      "source": [
        "pd_df.columns"
      ],
      "execution_count": null,
      "outputs": [
        {
          "output_type": "execute_result",
          "data": {
            "text/plain": [
              "Index(['Gender', 'Senior_Citizen', 'Partner', 'Dependents', 'Tenure_Months',\n",
              "       'Phone_Service', 'Multiple_Lines', 'Internet_Service',\n",
              "       'Online_Security', 'Online_Backup', 'Device_Protection', 'Tech_Support',\n",
              "       'Streaming_TV', 'Streaming_Movies', 'Contract', 'Paperless_Billing',\n",
              "       'Payment_Method', 'Monthly_Charges', 'Total_Charges', 'Churn_Label'],\n",
              "      dtype='object')"
            ]
          },
          "metadata": {
            "tags": []
          },
          "execution_count": 11
        }
      ]
    },
    {
      "cell_type": "code",
      "metadata": {
        "id": "JuRoYbNhC5rw",
        "outputId": "eb17fc2b-3e52-4dcd-e4e4-e7ec14f222f2",
        "colab": {
          "base_uri": "https://localhost:8080/",
          "height": 280
        }
      },
      "source": [
        "import matplotlib.pyplot as plt\n",
        "plt.clf()\n",
        "plt.plot(pd_df['Tenure_Months'], pd_df['Total_Charges'],'.')\n",
        "plt.xlabel('Tenure_Months')\n",
        "plt.ylabel('Total_Charges')\n",
        "display()"
      ],
      "execution_count": null,
      "outputs": [
        {
          "output_type": "display_data",
          "data": {
            "image/png": "[encoded data removed]",
            "text/plain": [
              "<Figure size 432x288 with 1 Axes>"
            ]
          },
          "metadata": {
            "tags": [],
            "needs_background": "light"
          }
        }
      ]
    },
    {
      "cell_type": "code",
      "metadata": {
        "id": "fbNH1AuQB2JZ"
      },
      "source": [
        "#create a view or table, this is ony for this session, one can easily perform the sql on this table\n",
        "temp = \"churn_analysis\"\n",
        "df.createOrReplaceTempView('temp')"
      ],
      "execution_count": null,
      "outputs": []
    },
    {
      "cell_type": "code",
      "metadata": {
        "id": "ZNMC9owLDmr9",
        "outputId": "efe1a672-9d38-4d99-af61-4f5e100fea47",
        "colab": {
          "base_uri": "https://localhost:8080/",
          "height": 479
        }
      },
      "source": [
        "#sql\n",
        "spark.sql(\"select * from temp\").show()"
      ],
      "execution_count": null,
      "outputs": [
        {
          "output_type": "stream",
          "text": [
            "+------+--------------+-------+----------+-------------+-------------+----------------+----------------+-------------------+-------------------+-------------------+-------------------+-------------------+-------------------+--------------+-----------------+--------------------+---------------+-------------+-----------+\n",
            "|Gender|Senior_Citizen|Partner|Dependents|Tenure_Months|Phone_Service|  Multiple_Lines|Internet_Service|    Online_Security|      Online_Backup|  Device_Protection|       Tech_Support|       Streaming_TV|   Streaming_Movies|      Contract|Paperless_Billing|      Payment_Method|Monthly_Charges|Total_Charges|Churn_Label|\n",
            "+------+--------------+-------+----------+-------------+-------------+----------------+----------------+-------------------+-------------------+-------------------+-------------------+-------------------+-------------------+--------------+-----------------+--------------------+---------------+-------------+-----------+\n",
            "|  Male|            No|     No|        No|            2|          Yes|              No|             DSL|                Yes|                Yes|                 No|                 No|                 No|                 No|Month-to-month|              Yes|        Mailed check|          53.85|       108.15|        Yes|\n",
            "|Female|            No|     No|       Yes|            2|          Yes|              No|     Fiber optic|                 No|                 No|                 No|                 No|                 No|                 No|Month-to-month|              Yes|    Electronic check|           70.7|       151.65|        Yes|\n",
            "|Female|            No|     No|       Yes|            8|          Yes|             Yes|     Fiber optic|                 No|                 No|                Yes|                 No|                Yes|                Yes|Month-to-month|              Yes|    Electronic check|          99.65|        820.5|        Yes|\n",
            "|Female|            No|    Yes|       Yes|           28|          Yes|             Yes|     Fiber optic|                 No|                 No|                Yes|                Yes|                Yes|                Yes|Month-to-month|              Yes|    Electronic check|          104.8|      3046.05|        Yes|\n",
            "|  Male|            No|     No|       Yes|           49|          Yes|             Yes|     Fiber optic|                 No|                Yes|                Yes|                 No|                Yes|                Yes|Month-to-month|              Yes|Bank transfer (au...|          103.7|       5036.3|        Yes|\n",
            "|Female|            No|    Yes|        No|           10|          Yes|              No|             DSL|                 No|                 No|                Yes|                Yes|                 No|                 No|Month-to-month|               No|Credit card (auto...|           55.2|       528.35|        Yes|\n",
            "|  Male|           Yes|     No|        No|            1|           No|No phone service|             DSL|                 No|                 No|                Yes|                 No|                 No|                Yes|Month-to-month|              Yes|    Electronic check|          39.65|        39.65|        Yes|\n",
            "|  Male|            No|     No|        No|            1|          Yes|              No|              No|No internet service|No internet service|No internet service|No internet service|No internet service|No internet service|Month-to-month|               No|        Mailed check|          20.15|        20.15|        Yes|\n",
            "|  Male|            No|    Yes|       Yes|           47|          Yes|             Yes|     Fiber optic|                 No|                Yes|                 No|                 No|                Yes|                Yes|Month-to-month|              Yes|    Electronic check|          99.35|      4749.15|        Yes|\n",
            "|  Male|            No|    Yes|        No|            1|           No|No phone service|             DSL|                 No|                Yes|                 No|                 No|                 No|                 No|Month-to-month|               No|    Electronic check|           30.2|         30.2|        Yes|\n",
            "|Female|            No|     No|        No|           17|          Yes|              No|             DSL|                 No|                 No|                 No|                 No|                Yes|                Yes|Month-to-month|              Yes|        Mailed check|           64.7|       1093.1|        Yes|\n",
            "|  Male|            No|     No|       Yes|            5|          Yes|              No|     Fiber optic|                 No|                 No|                 No|                 No|                 No|                 No|Month-to-month|              Yes|    Electronic check|           69.7|        316.9|        Yes|\n",
            "|  Male|            No|     No|       Yes|           34|          Yes|             Yes|     Fiber optic|                 No|                Yes|                Yes|                 No|                Yes|                Yes|Month-to-month|              Yes|    Electronic check|         106.35|      3549.25|        Yes|\n",
            "|Female|            No|     No|       Yes|           11|          Yes|             Yes|     Fiber optic|                 No|                 No|                Yes|                 No|                Yes|                Yes|Month-to-month|              Yes|Bank transfer (au...|          97.85|       1105.4|        Yes|\n",
            "|Female|            No|     No|       Yes|            2|          Yes|              No|     Fiber optic|                 No|                 No|                 No|                 No|                Yes|                 No|Month-to-month|              Yes|    Electronic check|          80.65|       144.15|        Yes|\n",
            "|Female|            No|     No|       Yes|           15|          Yes|              No|     Fiber optic|                Yes|                Yes|                 No|                 No|                Yes|                Yes|Month-to-month|              Yes|Credit card (auto...|           99.1|       1426.4|        Yes|\n",
            "|Female|           Yes|    Yes|       Yes|            8|          Yes|             Yes|     Fiber optic|                 No|                Yes|                 No|                 No|                 No|                 No|Month-to-month|              Yes|Credit card (auto...|          80.65|        633.3|        Yes|\n",
            "|  Male|           Yes|     No|       Yes|           18|          Yes|             Yes|     Fiber optic|                 No|                 No|                 No|                 No|                Yes|                Yes|Month-to-month|              Yes|    Electronic check|          95.45|      1752.55|        Yes|\n",
            "|Female|            No|     No|       Yes|            9|          Yes|             Yes|     Fiber optic|                 No|                 No|                 No|                 No|                Yes|                Yes|Month-to-month|               No|    Electronic check|           94.4|       857.25|        Yes|\n",
            "|Female|            No|     No|       Yes|            1|          Yes|              No|     Fiber optic|                 No|                 No|                 No|                 No|                Yes|                 No|Month-to-month|              Yes|    Electronic check|          79.35|        79.35|        Yes|\n",
            "+------+--------------+-------+----------+-------------+-------------+----------------+----------------+-------------------+-------------------+-------------------+-------------------+-------------------+-------------------+--------------+-----------------+--------------------+---------------+-------------+-----------+\n",
            "only showing top 20 rows\n",
            "\n"
          ],
          "name": "stdout"
        }
      ]
    },
    {
      "cell_type": "code",
      "metadata": {
        "id": "V1dnLUPGQYDf",
        "outputId": "0665905f-e236-4792-f175-166b75d208a5",
        "colab": {
          "base_uri": "https://localhost:8080/",
          "height": 136
        }
      },
      "source": [
        "df.groupBy('Churn_Label').count().show()"
      ],
      "execution_count": null,
      "outputs": [
        {
          "output_type": "stream",
          "text": [
            "+-----------+-----+\n",
            "|Churn_Label|count|\n",
            "+-----------+-----+\n",
            "|         No| 5174|\n",
            "|        Yes| 1869|\n",
            "+-----------+-----+\n",
            "\n"
          ],
          "name": "stdout"
        }
      ]
    },
    {
      "cell_type": "code",
      "metadata": {
        "id": "9_z5YH-uELut",
        "outputId": "7e18f381-d29c-4049-bdfb-0b2360f8febd",
        "colab": {
          "base_uri": "https://localhost:8080/",
          "height": 187
        }
      },
      "source": [
        "#pyspark\n",
        "df.select(\"Tenure_Months\", \"Total_Charges\", \"Monthly_Charges\").describe().show()"
      ],
      "execution_count": null,
      "outputs": [
        {
          "output_type": "stream",
          "text": [
            "+-------+------------------+------------------+------------------+\n",
            "|summary|     Tenure_Months|     Total_Charges|   Monthly_Charges|\n",
            "+-------+------------------+------------------+------------------+\n",
            "|  count|              7043|              7032|              7043|\n",
            "|   mean| 32.37114865824223|2283.3004408418697|  64.7616924605991|\n",
            "| stddev|24.559481023094488| 2266.771361883143|30.090047097678507|\n",
            "|    min|                 0|              18.8|             18.25|\n",
            "|    max|                72|            8684.8|            118.75|\n",
            "+-------+------------------+------------------+------------------+\n",
            "\n"
          ],
          "name": "stdout"
        }
      ]
    },
    {
      "cell_type": "code",
      "metadata": {
        "id": "SPeLJOrNRQy1",
        "outputId": "36779f9f-b71d-496c-abcd-6224586f4b1d",
        "colab": {
          "base_uri": "https://localhost:8080/",
          "height": 170
        }
      },
      "source": [
        "#sql\n",
        "spark.sql(\"SELECT Gender, Churn_Label, COUNT(*) from temp GROUP BY Gender, Churn_Label\").show()"
      ],
      "execution_count": null,
      "outputs": [
        {
          "output_type": "stream",
          "text": [
            "+------+-----------+--------+\n",
            "|Gender|Churn_Label|count(1)|\n",
            "+------+-----------+--------+\n",
            "|  Male|         No|    2625|\n",
            "|  Male|        Yes|     930|\n",
            "|Female|         No|    2549|\n",
            "|Female|        Yes|     939|\n",
            "+------+-----------+--------+\n",
            "\n"
          ],
          "name": "stdout"
        }
      ]
    },
    {
      "cell_type": "code",
      "metadata": {
        "id": "lWFXv3zKR2K5",
        "outputId": "812f2797-6256-416c-ed9b-a20abe8b22ed",
        "colab": {
          "base_uri": "https://localhost:8080/",
          "height": 170
        }
      },
      "source": [
        "#sql\n",
        "spark.sql(\"SELECT Senior_Citizen, Churn_Label, COUNT(*) from temp GROUP BY Senior_Citizen, Churn_Label\").show()"
      ],
      "execution_count": null,
      "outputs": [
        {
          "output_type": "stream",
          "text": [
            "+--------------+-----------+--------+\n",
            "|Senior_Citizen|Churn_Label|count(1)|\n",
            "+--------------+-----------+--------+\n",
            "|           Yes|        Yes|     476|\n",
            "|            No|         No|    4508|\n",
            "|           Yes|         No|     666|\n",
            "|            No|        Yes|    1393|\n",
            "+--------------+-----------+--------+\n",
            "\n"
          ],
          "name": "stdout"
        }
      ]
    },
    {
      "cell_type": "code",
      "metadata": {
        "id": "T0eFp5DdS2bD",
        "outputId": "b6f062ba-b870-425d-f220-c044e1791cfa",
        "colab": {
          "base_uri": "https://localhost:8080/",
          "height": 459
        }
      },
      "source": [
        "#sql\n",
        "spark.sql(\"SELECT CAST(Tenure_Months as int), Churn_Label, COUNT(Churn_Label) from temp GROUP BY Tenure_Months, Churn_Label ORDER BY CAST(Tenure_Months as int)\").show()"
      ],
      "execution_count": null,
      "outputs": [
        {
          "output_type": "stream",
          "text": [
            "+-------------+-----------+------------------+\n",
            "|Tenure_Months|Churn_Label|count(Churn_Label)|\n",
            "+-------------+-----------+------------------+\n",
            "|            0|         No|                11|\n",
            "|            1|         No|               233|\n",
            "|            1|        Yes|               380|\n",
            "|            2|         No|               115|\n",
            "|            2|        Yes|               123|\n",
            "|            3|         No|               106|\n",
            "|            3|        Yes|                94|\n",
            "|            4|        Yes|                83|\n",
            "|            4|         No|                93|\n",
            "|            5|        Yes|                64|\n",
            "|            5|         No|                69|\n",
            "|            6|        Yes|                40|\n",
            "|            6|         No|                70|\n",
            "|            7|        Yes|                51|\n",
            "|            7|         No|                80|\n",
            "|            8|         No|                81|\n",
            "|            8|        Yes|                42|\n",
            "|            9|        Yes|                46|\n",
            "|            9|         No|                73|\n",
            "|           10|         No|                71|\n",
            "+-------------+-----------+------------------+\n",
            "only showing top 20 rows\n",
            "\n"
          ],
          "name": "stdout"
        }
      ]
    },
    {
      "cell_type": "code",
      "metadata": {
        "id": "tG6_XX38STA_",
        "outputId": "c69444ad-32f5-46ec-87ef-c3461782e56b",
        "colab": {
          "base_uri": "https://localhost:8080/",
          "height": 136
        }
      },
      "source": [
        "#pyspark\n",
        "df.stat.crosstab(\"Senior_Citizen\",\"Internet_Service\").show()"
      ],
      "execution_count": null,
      "outputs": [
        {
          "output_type": "stream",
          "text": [
            "+-------------------------------+----+-----------+----+\n",
            "|Senior_Citizen_Internet_Service| DSL|Fiber optic|  No|\n",
            "+-------------------------------+----+-----------+----+\n",
            "|                             No|2162|       2265|1474|\n",
            "|                            Yes| 259|        831|  52|\n",
            "+-------------------------------+----+-----------+----+\n",
            "\n"
          ],
          "name": "stdout"
        }
      ]
    },
    {
      "cell_type": "code",
      "metadata": {
        "id": "lYVV68btSbA_",
        "outputId": "85844809-9d6b-48cc-c6a1-466a401b0392",
        "colab": {
          "base_uri": "https://localhost:8080/",
          "height": 54
        }
      },
      "source": [
        "df.stat.freqItems([\"Phone_Service\",\"Multiple_Lines\",\"Internet_Service\",\"Online_Security\",\"Online_Backup\",\"Device_Protection\",\n",
        "\"Tech_Support\",\"Streaming_TV\",\"Streaming_Movies\"],0.6).collect()"
      ],
      "execution_count": null,
      "outputs": [
        {
          "output_type": "execute_result",
          "data": {
            "text/plain": [
              "[Row(Phone_Service_freqItems=['Yes'], Multiple_Lines_freqItems=['No'], Internet_Service_freqItems=['Fiber optic'], Online_Security_freqItems=['No'], Online_Backup_freqItems=['Yes'], Device_Protection_freqItems=['Yes'], Tech_Support_freqItems=['No'], Streaming_TV_freqItems=['Yes'], Streaming_Movies_freqItems=['Yes'])]"
            ]
          },
          "metadata": {
            "tags": []
          },
          "execution_count": 21
        }
      ]
    },
    {
      "cell_type": "code",
      "metadata": {
        "id": "ThlSo3q_VXld",
        "outputId": "403221e9-cc91-41d6-fcfe-bb8c4a0e7de2",
        "colab": {
          "base_uri": "https://localhost:8080/",
          "height": 170
        }
      },
      "source": [
        "#sql\n",
        "spark.sql(\"SELECT Paperless_Billing, Churn_Label, COUNT(*) from temp GROUP BY Paperless_Billing, Churn_Label\").show()"
      ],
      "execution_count": null,
      "outputs": [
        {
          "output_type": "stream",
          "text": [
            "+-----------------+-----------+--------+\n",
            "|Paperless_Billing|Churn_Label|count(1)|\n",
            "+-----------------+-----------+--------+\n",
            "|              Yes|        Yes|    1400|\n",
            "|               No|         No|    2403|\n",
            "|              Yes|         No|    2771|\n",
            "|               No|        Yes|     469|\n",
            "+-----------------+-----------+--------+\n",
            "\n"
          ],
          "name": "stdout"
        }
      ]
    },
    {
      "cell_type": "code",
      "metadata": {
        "id": "13Pa21xsWdk1",
        "outputId": "4a9d639d-e6cf-43a9-cf91-4307aedc874f",
        "colab": {
          "base_uri": "https://localhost:8080/",
          "height": 238
        }
      },
      "source": [
        "#sql\n",
        "spark.sql(\"SELECT Payment_Method, Churn_Label, COUNT(*) from temp GROUP BY Payment_Method, Churn_Label\").show()"
      ],
      "execution_count": null,
      "outputs": [
        {
          "output_type": "stream",
          "text": [
            "+--------------------+-----------+--------+\n",
            "|      Payment_Method|Churn_Label|count(1)|\n",
            "+--------------------+-----------+--------+\n",
            "|Credit card (auto...|         No|    1290|\n",
            "|Bank transfer (au...|         No|    1286|\n",
            "|        Mailed check|        Yes|     308|\n",
            "|Credit card (auto...|        Yes|     232|\n",
            "|    Electronic check|         No|    1294|\n",
            "|    Electronic check|        Yes|    1071|\n",
            "|Bank transfer (au...|        Yes|     258|\n",
            "|        Mailed check|         No|    1304|\n",
            "+--------------------+-----------+--------+\n",
            "\n"
          ],
          "name": "stdout"
        }
      ]
    },
    {
      "cell_type": "markdown",
      "metadata": {
        "id": "fG8fhlJTW3s2"
      },
      "source": [
        "We have done our analysis.\n",
        "Now, we will do our model building process.... "
      ]
    },
    {
      "cell_type": "code",
      "metadata": {
        "id": "y0c9-7C4aIz8",
        "outputId": "14beede1-b788-468d-d32f-a69280f12af5",
        "colab": {
          "base_uri": "https://localhost:8080/",
          "height": 51
        }
      },
      "source": [
        "churn_df = df\n",
        "(train_data, test_data) = churn_df.randomSplit([0.7,0.3], 24)\n",
        "print(\"Records for training:\" + str(train_data.count()))\n",
        "print(\"Records for testing:\" + str(test_data.count()))"
      ],
      "execution_count": null,
      "outputs": [
        {
          "output_type": "stream",
          "text": [
            "Records for training:4942\n",
            "Records for testing:2101\n"
          ],
          "name": "stdout"
        }
      ]
    },
    {
      "cell_type": "code",
      "metadata": {
        "id": "g3u_fpDxWskp"
      },
      "source": [
        "from pyspark.ml import Pipeline\n",
        "from pyspark.ml.feature import OneHotEncoder, OneH StringIndexer, VectorAssembler"
      ],
      "execution_count": null,
      "outputs": []
    },
    {
      "cell_type": "code",
      "metadata": {
        "id": "kdueXQMEXao1"
      },
      "source": [
        "catColumns = [\"Gender\",\"Senior_Citizen\",\"Partner\",\"Dependents\",\"Phone_Service\",\"Multiple_Lines\",\"Internet_Service\",\"Online_Security\",\"Online_Backup\",\n",
        "              \"Device_Protection\",\"Tech_Support\",\"Streaming_TV\",\"Streaming_Movies\",\"Contract\",\"Paperless_Billing\",\"Payment_Method\"]"
      ],
      "execution_count": null,
      "outputs": []
    },
    {
      "cell_type": "code",
      "metadata": {
        "id": "YVtsOi18bg1d"
      },
      "source": [
        "#Convert categorical column into Integer\n",
        "stages = []\n",
        "for catCol in catColumns:\n",
        "  stringIndexer = StringIndexer(inputCol=catCol, outputCol=catCol + \"Index\")\n",
        "  encoder = OneHotEncoder(inputCols=[stringIndexer.getOutputCol()], outputCols=[catCol+\"catVec\"])\n",
        "  stages += [stringIndexer, encoder]"
      ],
      "execution_count": null,
      "outputs": []
    },
    {
      "cell_type": "code",
      "metadata": {
        "id": "6lamOme7b2dU",
        "outputId": "86186b21-566b-4927-9a44-393720eb26a3",
        "colab": {
          "base_uri": "https://localhost:8080/",
          "height": 561
        }
      },
      "source": [
        "stages"
      ],
      "execution_count": null,
      "outputs": [
        {
          "output_type": "execute_result",
          "data": {
            "text/plain": [
              "[StringIndexer_bbbfa0d0065a,\n",
              " OneHotEncoder_c82ccfb60ec0,\n",
              " StringIndexer_23411e1b9b44,\n",
              " OneHotEncoder_717fbe70cc72,\n",
              " StringIndexer_9b0d000ff248,\n",
              " OneHotEncoder_60c61b748c2a,\n",
              " StringIndexer_2fa17e13ed92,\n",
              " OneHotEncoder_f0373a1ae4fc,\n",
              " StringIndexer_caa32a0a124a,\n",
              " OneHotEncoder_5d3fde675714,\n",
              " StringIndexer_78c09a8ae988,\n",
              " OneHotEncoder_dd09973b679f,\n",
              " StringIndexer_e444cc2081d0,\n",
              " OneHotEncoder_0fd65c3983d2,\n",
              " StringIndexer_21f5843508c2,\n",
              " OneHotEncoder_3f1399217bd4,\n",
              " StringIndexer_3e16f2c39dcc,\n",
              " OneHotEncoder_2407abb64894,\n",
              " StringIndexer_bf62735ecd51,\n",
              " OneHotEncoder_3d1193639340,\n",
              " StringIndexer_092c10e51bbb,\n",
              " OneHotEncoder_10ff1b4234a6,\n",
              " StringIndexer_c077d2cebaeb,\n",
              " OneHotEncoder_1373875bf9d0,\n",
              " StringIndexer_2cc217dc5034,\n",
              " OneHotEncoder_1e266aec2550,\n",
              " StringIndexer_1e0c2f931e1d,\n",
              " OneHotEncoder_927c95ced49a,\n",
              " StringIndexer_4839fc803ab0,\n",
              " OneHotEncoder_d4cda22748b6,\n",
              " StringIndexer_ece01afbb88c,\n",
              " OneHotEncoder_c726702c220e]"
            ]
          },
          "metadata": {
            "tags": []
          },
          "execution_count": 28
        }
      ]
    },
    {
      "cell_type": "code",
      "metadata": {
        "id": "aG_00GGOb2y2"
      },
      "source": [
        "#Handle missing values\n",
        "from pyspark.ml.feature import Imputer\n",
        "imputer = Imputer(inputCols=[\"Total_Charges\"], outputCols=[\"Out_Total_Charges\"])\n",
        "stages += [imputer]"
      ],
      "execution_count": null,
      "outputs": []
    },
    {
      "cell_type": "code",
      "metadata": {
        "id": "yJQp1xsyb173"
      },
      "source": [
        "label_Idx = StringIndexer(inputCol=\"Churn_Label\", outputCol=\"label\")\n",
        "stages += [label_Idx]"
      ],
      "execution_count": null,
      "outputs": []
    },
    {
      "cell_type": "code",
      "metadata": {
        "id": "85VNkrlXfsVE"
      },
      "source": [
        "temp = label_Idx.fit(train_data).transform(train_data)"
      ],
      "execution_count": null,
      "outputs": []
    },
    {
      "cell_type": "code",
      "metadata": {
        "id": "fE1JJ7TwgF3E",
        "outputId": "421c8b47-eb07-40ad-9da5-1009283343b6",
        "colab": {
          "base_uri": "https://localhost:8080/",
          "height": 479
        }
      },
      "source": [
        "temp.show()"
      ],
      "execution_count": null,
      "outputs": [
        {
          "output_type": "stream",
          "text": [
            "+------+--------------+-------+----------+-------------+-------------+----------------+----------------+---------------+-------------+-----------------+------------+------------+----------------+--------------+-----------------+--------------------+---------------+-------------+-----------+-----+\n",
            "|Gender|Senior_Citizen|Partner|Dependents|Tenure_Months|Phone_Service|  Multiple_Lines|Internet_Service|Online_Security|Online_Backup|Device_Protection|Tech_Support|Streaming_TV|Streaming_Movies|      Contract|Paperless_Billing|      Payment_Method|Monthly_Charges|Total_Charges|Churn_Label|label|\n",
            "+------+--------------+-------+----------+-------------+-------------+----------------+----------------+---------------+-------------+-----------------+------------+------------+----------------+--------------+-----------------+--------------------+---------------+-------------+-----------+-----+\n",
            "|Female|            No|     No|        No|            1|           No|No phone service|             DSL|             No|           No|               No|          No|          No|              No|Month-to-month|               No|Bank transfer (au...|          25.25|        25.25|         No|  0.0|\n",
            "|Female|            No|     No|        No|            1|           No|No phone service|             DSL|             No|           No|               No|          No|          No|              No|Month-to-month|               No|    Electronic check|           24.6|         24.6|        Yes|  1.0|\n",
            "|Female|            No|     No|        No|            1|           No|No phone service|             DSL|             No|           No|               No|          No|          No|              No|Month-to-month|               No|    Electronic check|          25.25|        25.25|         No|  0.0|\n",
            "|Female|            No|     No|        No|            1|           No|No phone service|             DSL|             No|           No|               No|          No|          No|              No|Month-to-month|               No|        Mailed check|           24.4|         24.4|         No|  0.0|\n",
            "|Female|            No|     No|        No|            1|           No|No phone service|             DSL|             No|           No|               No|          No|          No|              No|Month-to-month|               No|        Mailed check|           25.2|         25.2|        Yes|  1.0|\n",
            "|Female|            No|     No|        No|            1|           No|No phone service|             DSL|             No|           No|               No|          No|          No|              No|Month-to-month|              Yes|        Mailed check|           24.9|         24.9|         No|  0.0|\n",
            "|Female|            No|     No|        No|            1|           No|No phone service|             DSL|             No|           No|               No|          No|          No|              No|Month-to-month|              Yes|        Mailed check|           25.1|         25.1|        Yes|  1.0|\n",
            "|Female|            No|     No|        No|            1|           No|No phone service|             DSL|             No|           No|               No|          No|          No|              No|      One year|               No|        Mailed check|          25.85|        25.85|         No|  0.0|\n",
            "|Female|            No|     No|        No|            1|           No|No phone service|             DSL|             No|           No|               No|          No|         Yes|              No|Month-to-month|              Yes|    Electronic check|           34.7|         34.7|        Yes|  1.0|\n",
            "|Female|            No|     No|        No|            1|           No|No phone service|             DSL|             No|           No|               No|          No|         Yes|              No|Month-to-month|              Yes|    Electronic check|          35.75|        35.75|        Yes|  1.0|\n",
            "|Female|            No|     No|        No|            1|           No|No phone service|             DSL|             No|           No|               No|         Yes|          No|              No|Month-to-month|               No|        Mailed check|          30.55|        30.55|         No|  0.0|\n",
            "|Female|            No|     No|        No|            1|           No|No phone service|             DSL|            Yes|           No|               No|          No|          No|              No|Month-to-month|               No|        Mailed check|           29.9|         29.9|         No|  0.0|\n",
            "|Female|            No|     No|        No|            1|          Yes|              No|             DSL|             No|           No|               No|          No|          No|              No|Month-to-month|               No|Bank transfer (au...|          44.15|        44.15|         No|  0.0|\n",
            "|Female|            No|     No|        No|            1|          Yes|              No|             DSL|             No|           No|               No|          No|          No|              No|Month-to-month|               No|Credit card (auto...|          43.95|        43.95|         No|  0.0|\n",
            "|Female|            No|     No|        No|            1|          Yes|              No|             DSL|             No|           No|               No|          No|          No|              No|Month-to-month|               No|        Mailed check|           44.4|         44.4|        Yes|  1.0|\n",
            "|Female|            No|     No|        No|            1|          Yes|              No|             DSL|             No|           No|               No|          No|          No|              No|Month-to-month|               No|        Mailed check|          44.75|        44.75|         No|  0.0|\n",
            "|Female|            No|     No|        No|            1|          Yes|              No|             DSL|             No|           No|               No|          No|          No|              No|Month-to-month|               No|        Mailed check|          45.15|        45.15|         No|  0.0|\n",
            "|Female|            No|     No|        No|            1|          Yes|              No|             DSL|             No|           No|               No|          No|          No|              No|Month-to-month|               No|        Mailed check|           45.3|         45.3|         No|  0.0|\n",
            "|Female|            No|     No|        No|            1|          Yes|              No|             DSL|             No|           No|               No|          No|          No|              No|Month-to-month|               No|        Mailed check|          45.35|        45.35|         No|  0.0|\n",
            "|Female|            No|     No|        No|            1|          Yes|              No|             DSL|             No|           No|               No|          No|          No|              No|Month-to-month|               No|        Mailed check|          45.95|        45.95|        Yes|  1.0|\n",
            "+------+--------------+-------+----------+-------------+-------------+----------------+----------------+---------------+-------------+-----------------+------------+------------+----------------+--------------+-----------------+--------------------+---------------+-------------+-----------+-----+\n",
            "only showing top 20 rows\n",
            "\n"
          ],
          "name": "stdout"
        }
      ]
    },
    {
      "cell_type": "code",
      "metadata": {
        "id": "BFqWsbdrLnFw",
        "outputId": "9da8b9e7-7b7f-488d-d5f8-a0e61a18e831",
        "colab": {
          "base_uri": "https://localhost:8080/",
          "height": 34
        }
      },
      "source": [
        "df.stat.corr('Total_Charges','Monthly_Charges')"
      ],
      "execution_count": null,
      "outputs": [
        {
          "output_type": "execute_result",
          "data": {
            "text/plain": [
              "0.6511738315787847"
            ]
          },
          "metadata": {
            "tags": []
          },
          "execution_count": 33
        }
      ]
    },
    {
      "cell_type": "code",
      "metadata": {
        "id": "nJ30GM3ihhyq",
        "outputId": "aed9fe49-66ff-48da-d9d3-77d344c5dcea",
        "colab": {
          "base_uri": "https://localhost:8080/",
          "height": 459
        }
      },
      "source": [
        "#sql\n",
        "spark.sql(\"SELECT CAST(Tenure_Months as int), Churn_Label, COUNT(*) AS churned FROM temp WHERE Churn_Label='Yes' GROUP BY Tenure_Months, Churn_Label ORDER BY CAST(Tenure_Months as int)\").show()"
      ],
      "execution_count": null,
      "outputs": [
        {
          "output_type": "stream",
          "text": [
            "+-------------+-----------+-------+\n",
            "|Tenure_Months|Churn_Label|churned|\n",
            "+-------------+-----------+-------+\n",
            "|            1|        Yes|    380|\n",
            "|            2|        Yes|    123|\n",
            "|            3|        Yes|     94|\n",
            "|            4|        Yes|     83|\n",
            "|            5|        Yes|     64|\n",
            "|            6|        Yes|     40|\n",
            "|            7|        Yes|     51|\n",
            "|            8|        Yes|     42|\n",
            "|            9|        Yes|     46|\n",
            "|           10|        Yes|     45|\n",
            "|           11|        Yes|     31|\n",
            "|           12|        Yes|     38|\n",
            "|           13|        Yes|     38|\n",
            "|           14|        Yes|     24|\n",
            "|           15|        Yes|     37|\n",
            "|           16|        Yes|     28|\n",
            "|           17|        Yes|     26|\n",
            "|           18|        Yes|     24|\n",
            "|           19|        Yes|     19|\n",
            "|           20|        Yes|     18|\n",
            "+-------------+-----------+-------+\n",
            "only showing top 20 rows\n",
            "\n"
          ],
          "name": "stdout"
        }
      ]
    },
    {
      "cell_type": "code",
      "metadata": {
        "id": "DFszFR3YgmWz"
      },
      "source": [
        "from pyspark.ml.feature import QuantileDiscretizer\n",
        "tenure_bin = QuantileDiscretizer(numBuckets=3, inputCol=\"Tenure_Months\", outputCol=\"tenure_bin\")\n",
        "stages += [tenure_bin]"
      ],
      "execution_count": null,
      "outputs": []
    },
    {
      "cell_type": "code",
      "metadata": {
        "id": "FpGoPpU9jzIW",
        "outputId": "08e6e9c1-8a13-495d-fe92-899ea663e325",
        "colab": {
          "base_uri": "https://localhost:8080/",
          "height": 612
        }
      },
      "source": [
        "stages"
      ],
      "execution_count": null,
      "outputs": [
        {
          "output_type": "execute_result",
          "data": {
            "text/plain": [
              "[StringIndexer_bbbfa0d0065a,\n",
              " OneHotEncoder_c82ccfb60ec0,\n",
              " StringIndexer_23411e1b9b44,\n",
              " OneHotEncoder_717fbe70cc72,\n",
              " StringIndexer_9b0d000ff248,\n",
              " OneHotEncoder_60c61b748c2a,\n",
              " StringIndexer_2fa17e13ed92,\n",
              " OneHotEncoder_f0373a1ae4fc,\n",
              " StringIndexer_caa32a0a124a,\n",
              " OneHotEncoder_5d3fde675714,\n",
              " StringIndexer_78c09a8ae988,\n",
              " OneHotEncoder_dd09973b679f,\n",
              " StringIndexer_e444cc2081d0,\n",
              " OneHotEncoder_0fd65c3983d2,\n",
              " StringIndexer_21f5843508c2,\n",
              " OneHotEncoder_3f1399217bd4,\n",
              " StringIndexer_3e16f2c39dcc,\n",
              " OneHotEncoder_2407abb64894,\n",
              " StringIndexer_bf62735ecd51,\n",
              " OneHotEncoder_3d1193639340,\n",
              " StringIndexer_092c10e51bbb,\n",
              " OneHotEncoder_10ff1b4234a6,\n",
              " StringIndexer_c077d2cebaeb,\n",
              " OneHotEncoder_1373875bf9d0,\n",
              " StringIndexer_2cc217dc5034,\n",
              " OneHotEncoder_1e266aec2550,\n",
              " StringIndexer_1e0c2f931e1d,\n",
              " OneHotEncoder_927c95ced49a,\n",
              " StringIndexer_4839fc803ab0,\n",
              " OneHotEncoder_d4cda22748b6,\n",
              " StringIndexer_ece01afbb88c,\n",
              " OneHotEncoder_c726702c220e,\n",
              " Imputer_e50ef7238a91,\n",
              " StringIndexer_1d93076d405f,\n",
              " QuantileDiscretizer_1bd8165c8af4]"
            ]
          },
          "metadata": {
            "tags": []
          },
          "execution_count": 36
        }
      ]
    },
    {
      "cell_type": "code",
      "metadata": {
        "id": "oocetW6Cjy2n"
      },
      "source": [
        "numericCols = [\"tenure_bin\", \"Out_Total_Charges\",\"Monthly_Charges\"]\n",
        "assembleInputs = assemblerInputs = [c+\"catVec\" for c in catColumns] + numericCols\n",
        "assembler = VectorAssembler(inputCols=assembleInputs, outputCol=\"features\")\n",
        "stages += [assembler]"
      ],
      "execution_count": null,
      "outputs": []
    },
    {
      "cell_type": "code",
      "metadata": {
        "id": "Ef4XHwfdlIF4"
      },
      "source": [
        "pipeline = Pipeline().setStages(stages)\n",
        "pipelineModel = pipeline.fit(train_data)"
      ],
      "execution_count": null,
      "outputs": []
    },
    {
      "cell_type": "code",
      "metadata": {
        "id": "cK6_g1egmvZ_"
      },
      "source": [
        "trainprepDF = pipelineModel.transform(train_data)\n",
        "testprepDF = pipelineModel.transform(test_data)"
      ],
      "execution_count": null,
      "outputs": []
    },
    {
      "cell_type": "code",
      "metadata": {
        "id": "CdTpfdVtmvAm",
        "outputId": "4682b858-5793-4e9b-f02e-6763f012e2aa",
        "colab": {
          "base_uri": "https://localhost:8080/",
          "height": 54
        }
      },
      "source": [
        "trainprepDF.head(1)"
      ],
      "execution_count": null,
      "outputs": [
        {
          "output_type": "execute_result",
          "data": {
            "text/plain": [
              "[Row(Gender='Female', Senior_Citizen='No', Partner='No', Dependents='No', Tenure_Months=1, Phone_Service='No', Multiple_Lines='No phone service', Internet_Service='DSL', Online_Security='No', Online_Backup='No', Device_Protection='No', Tech_Support='No', Streaming_TV='No', Streaming_Movies='No', Contract='Month-to-month', Paperless_Billing='No', Payment_Method='Bank transfer (automatic)', Monthly_Charges=25.25, Total_Charges=25.25, Churn_Label='No', GenderIndex=1.0, GendercatVec=SparseVector(1, {}), Senior_CitizenIndex=0.0, Senior_CitizencatVec=SparseVector(1, {0: 1.0}), PartnerIndex=0.0, PartnercatVec=SparseVector(1, {0: 1.0}), DependentsIndex=0.0, DependentscatVec=SparseVector(1, {0: 1.0}), Phone_ServiceIndex=1.0, Phone_ServicecatVec=SparseVector(1, {}), Multiple_LinesIndex=2.0, Multiple_LinescatVec=SparseVector(2, {}), Internet_ServiceIndex=1.0, Internet_ServicecatVec=SparseVector(2, {1: 1.0}), Online_SecurityIndex=0.0, Online_SecuritycatVec=SparseVector(2, {0: 1.0}), Online_BackupIndex=0.0, Online_BackupcatVec=SparseVector(2, {0: 1.0}), Device_ProtectionIndex=0.0, Device_ProtectioncatVec=SparseVector(2, {0: 1.0}), Tech_SupportIndex=0.0, Tech_SupportcatVec=SparseVector(2, {0: 1.0}), Streaming_TVIndex=0.0, Streaming_TVcatVec=SparseVector(2, {0: 1.0}), Streaming_MoviesIndex=0.0, Streaming_MoviescatVec=SparseVector(2, {0: 1.0}), ContractIndex=0.0, ContractcatVec=SparseVector(2, {0: 1.0}), Paperless_BillingIndex=1.0, Paperless_BillingcatVec=SparseVector(1, {}), Payment_MethodIndex=3.0, Payment_MethodcatVec=SparseVector(3, {}), Out_Total_Charges=25.25, label=0.0, tenure_bin=0.0, features=SparseVector(30, {1: 1.0, 2: 1.0, 3: 1.0, 8: 1.0, 9: 1.0, 11: 1.0, 13: 1.0, 15: 1.0, 17: 1.0, 19: 1.0, 21: 1.0, 28: 25.25, 29: 25.25}))]"
            ]
          },
          "metadata": {
            "tags": []
          },
          "execution_count": 40
        }
      ]
    },
    {
      "cell_type": "markdown",
      "metadata": {
        "id": "ZTqT7u7NNpMG"
      },
      "source": [
        "#Logistic Regression"
      ]
    },
    {
      "cell_type": "code",
      "metadata": {
        "id": "7xXwWlf1Nohf"
      },
      "source": [
        "from pyspark.ml.classification import LogisticRegression\n",
        "\n",
        "#Create initial Logistic Regression Model\n",
        "lr = LogisticRegression(labelCol=\"label\", featuresCol=\"features\", maxIter=10)\n",
        "\n",
        "#Train model with training data\n",
        "lrModel = lr.fit(trainprepDF)"
      ],
      "execution_count": 44,
      "outputs": []
    },
    {
      "cell_type": "code",
      "metadata": {
        "id": "86YFyq_cYXw6",
        "outputId": "979db0be-6cc2-44bf-a5eb-d7b27ec00e6b",
        "colab": {
          "base_uri": "https://localhost:8080/",
          "height": 71
        }
      },
      "source": [
        "print(\"Coefficients: \" + str(lrModel.coefficients))\n",
        "print(\"Intercept: \" + str(lrModel.intercept))"
      ],
      "execution_count": 45,
      "outputs": [
        {
          "output_type": "stream",
          "text": [
            "Coefficients: [-0.10956731306117892,-0.2282302473157041,-0.29500717023947015,1.2650581509876724,-0.7314145609409771,-0.29168583363048656,0.03619069245392961,0.5473159527209323,-0.38064298638439015,0.26807556596489585,-0.09053593671384047,0.1636792459070367,0.03732530167516475,0.13755965661337297,0.0656173442254571,0.26814554235852334,-0.0892424476745023,0.013101249666587223,0.19234621979071506,-0.042989045827405974,0.2480685886206837,0.45695008826658157,-0.9720253067192921,0.2230444719338757,0.06602193212676777,-0.1978416277498851,-0.33784067812148755,-0.8456165879009664,-9.5481865014279e-05,0.004519117024184494]\n",
            "Intercept: -1.3257056471244948\n"
          ],
          "name": "stdout"
        }
      ]
    },
    {
      "cell_type": "code",
      "metadata": {
        "id": "gOyxawPpY0_1"
      },
      "source": [
        "summary = lrModel.summary"
      ],
      "execution_count": 46,
      "outputs": []
    },
    {
      "cell_type": "code",
      "metadata": {
        "id": "0DMF9FqYZPYb",
        "outputId": "7fd05fad-c94d-416e-d7c5-2bcb4d69b4d1",
        "colab": {
          "base_uri": "https://localhost:8080/",
          "height": 119
        }
      },
      "source": [
        "accuracy = summary.accuracy\n",
        "falsePositiveRate = summary.weightedFalsePositiveRate\n",
        "truePositiveRate = summary.weightedTruePositiveRate\n",
        "fMeasure = summary.weightedFMeasure()\n",
        "precision = summary.weightedPrecision\n",
        "recall = summary.weightedRecall\n",
        "roc = summary.areaUnderROC\n",
        "print(\"Accuracy: %s\\nFPR: %s\\nTPR: %s\\F-Measure: %s\\nPrecision: %s\\nRecall: %s\\nROC: %s\" %(accuracy, falsePositiveRate, truePositiveRate, fMeasure, precision, recall, roc))"
      ],
      "execution_count": 47,
      "outputs": [
        {
          "output_type": "stream",
          "text": [
            "Accuracy: 0.8089842169162282\n",
            "FPR: 0.35284047853101697\n",
            "TPR: 0.8089842169162282\\F-Measure: 0.8032376182988394\n",
            "Precision: 0.8010466587237126\n",
            "Recall: 0.8089842169162282\n",
            "ROC: 0.8537002482318539\n"
          ],
          "name": "stdout"
        }
      ]
    },
    {
      "cell_type": "code",
      "metadata": {
        "id": "qO2a0pDbdcgB"
      },
      "source": [
        "predictions = lrModel.transform(testprepDF)"
      ],
      "execution_count": 51,
      "outputs": []
    },
    {
      "cell_type": "code",
      "metadata": {
        "id": "pDRul5GNZP-n",
        "outputId": "69106c8f-ed76-44d6-d28a-1433e6a0c22e",
        "colab": {
          "base_uri": "https://localhost:8080/",
          "height": 52
        }
      },
      "source": [
        "from pyspark.ml.evaluation import BinaryClassificationEvaluator\n",
        "evaluatorLR = BinaryClassificationEvaluator(rawPredictionCol=\"prediction\")\n",
        "auc = evaluatorLR.evaluate(predictions)\n",
        "#Default evaluation is auc\n",
        "\n",
        "print(\"Area_Under_Curve_ROC = %g\" % auc)\n",
        "\n",
        "evaluatorLR.getMetricName()"
      ],
      "execution_count": 52,
      "outputs": [
        {
          "output_type": "stream",
          "text": [
            "Area_Under_Curve_ROC = 0.730268\n"
          ],
          "name": "stdout"
        },
        {
          "output_type": "execute_result",
          "data": {
            "application/vnd.google.colaboratory.intrinsic+json": {
              "type": "string"
            },
            "text/plain": [
              "'areaUnderROC'"
            ]
          },
          "metadata": {
            "tags": []
          },
          "execution_count": 52
        }
      ]
    },
    {
      "cell_type": "code",
      "metadata": {
        "id": "34PdFcJnZQpK",
        "outputId": "1211f304-463f-4a6e-cf89-d856a905e05b",
        "colab": {
          "base_uri": "https://localhost:8080/",
          "height": 190
        }
      },
      "source": [
        "from pyspark.mllib.evaluation import BinaryClassificationMetrics\n",
        "results = predictions.select(['prediction', 'label'])\n",
        "\n",
        "## prepare score label set\n",
        "results_collect = results.collect()\n",
        "results_list = [(float(i[0]), float(i[0])) for i in results_collect]\n",
        "predictionAndLabels = sc.parallelize(results_list)\n",
        "\n",
        "metrics = BinaryClassificationMetrics(predictionAndLabels)\n",
        "\n",
        "#Area under precision-recall curve\n",
        "print(\"Area under PR = %s\" % metrics.areaUnderPR)\n",
        "\n",
        "#Area under ROC curve\n",
        "print(\"Area under ROC = %s\" % metrics.areaUnderROC)\n",
        "\n",
        "predictions.show(1)"
      ],
      "execution_count": 53,
      "outputs": [
        {
          "output_type": "stream",
          "text": [
            "Area under PR = 1.0\n",
            "Area under ROC = 1.0\n",
            "+------+--------------+-------+----------+-------------+-------------+----------------+----------------+---------------+-------------+-----------------+------------+------------+----------------+--------------+-----------------+--------------+---------------+-------------+-----------+-----------+------------+-------------------+--------------------+------------+-------------+---------------+----------------+------------------+-------------------+-------------------+--------------------+---------------------+----------------------+--------------------+---------------------+------------------+-------------------+----------------------+-----------------------+-----------------+------------------+-----------------+------------------+---------------------+----------------------+-------------+--------------+----------------------+-----------------------+-------------------+--------------------+-----------------+-----+----------+--------------------+--------------------+--------------------+----------+\n",
            "|Gender|Senior_Citizen|Partner|Dependents|Tenure_Months|Phone_Service|  Multiple_Lines|Internet_Service|Online_Security|Online_Backup|Device_Protection|Tech_Support|Streaming_TV|Streaming_Movies|      Contract|Paperless_Billing|Payment_Method|Monthly_Charges|Total_Charges|Churn_Label|GenderIndex|GendercatVec|Senior_CitizenIndex|Senior_CitizencatVec|PartnerIndex|PartnercatVec|DependentsIndex|DependentscatVec|Phone_ServiceIndex|Phone_ServicecatVec|Multiple_LinesIndex|Multiple_LinescatVec|Internet_ServiceIndex|Internet_ServicecatVec|Online_SecurityIndex|Online_SecuritycatVec|Online_BackupIndex|Online_BackupcatVec|Device_ProtectionIndex|Device_ProtectioncatVec|Tech_SupportIndex|Tech_SupportcatVec|Streaming_TVIndex|Streaming_TVcatVec|Streaming_MoviesIndex|Streaming_MoviescatVec|ContractIndex|ContractcatVec|Paperless_BillingIndex|Paperless_BillingcatVec|Payment_MethodIndex|Payment_MethodcatVec|Out_Total_Charges|label|tenure_bin|            features|       rawPrediction|         probability|prediction|\n",
            "+------+--------------+-------+----------+-------------+-------------+----------------+----------------+---------------+-------------+-----------------+------------+------------+----------------+--------------+-----------------+--------------+---------------+-------------+-----------+-----------+------------+-------------------+--------------------+------------+-------------+---------------+----------------+------------------+-------------------+-------------------+--------------------+---------------------+----------------------+--------------------+---------------------+------------------+-------------------+----------------------+-----------------------+-----------------+------------------+-----------------+------------------+---------------------+----------------------+-------------+--------------+----------------------+-----------------------+-------------------+--------------------+-----------------+-----+----------+--------------------+--------------------+--------------------+----------+\n",
            "|Female|            No|     No|        No|            1|           No|No phone service|             DSL|             No|           No|               No|          No|          No|              No|Month-to-month|              Yes|  Mailed check|          25.15|        25.15|         No|        1.0|   (1,[],[])|                0.0|       (1,[0],[1.0])|         0.0|(1,[0],[1.0])|            0.0|   (1,[0],[1.0])|               1.0|          (1,[],[])|                2.0|           (2,[],[])|                  1.0|         (2,[1],[1.0])|                 0.0|        (2,[0],[1.0])|               0.0|      (2,[0],[1.0])|                   0.0|          (2,[0],[1.0])|              0.0|     (2,[0],[1.0])|              0.0|     (2,[0],[1.0])|                  0.0|         (2,[0],[1.0])|          0.0| (2,[0],[1.0])|                   0.0|          (1,[0],[1.0])|                1.0|       (3,[1],[1.0])|            25.15|  0.0|       0.0|(30,[1,2,3,8,9,11...|[-0.4364516713103...|[0.39258678897529...|       1.0|\n",
            "+------+--------------+-------+----------+-------------+-------------+----------------+----------------+---------------+-------------+-----------------+------------+------------+----------------+--------------+-----------------+--------------+---------------+-------------+-----------+-----------+------------+-------------------+--------------------+------------+-------------+---------------+----------------+------------------+-------------------+-------------------+--------------------+---------------------+----------------------+--------------------+---------------------+------------------+-------------------+----------------------+-----------------------+-----------------+------------------+-----------------+------------------+---------------------+----------------------+-------------+--------------+----------------------+-----------------------+-------------------+--------------------+-----------------+-----+----------+--------------------+--------------------+--------------------+----------+\n",
            "only showing top 1 row\n",
            "\n"
          ],
          "name": "stdout"
        }
      ]
    },
    {
      "cell_type": "markdown",
      "metadata": {
        "id": "gsXbgV5PeeE3"
      },
      "source": [
        "#Cross Validation"
      ]
    },
    {
      "cell_type": "code",
      "metadata": {
        "id": "dzSGgU5pZQRc"
      },
      "source": [
        "from pyspark.ml.tuning import ParamGridBuilder, CrossValidator\n",
        "\n",
        "#Create ParamGrid for Cross Validation\n",
        "paramGrid = (ParamGridBuilder()\n",
        "             .addGrid(lr.regParam, [0.01, 0.5, 2.0])\n",
        "             .addGrid(lr.elasticNetParam, [0.0, 0.5, 1.0])\n",
        "             .addGrid(lr.maxIter, [5,10,20])\n",
        "             .build())"
      ],
      "execution_count": 54,
      "outputs": []
    },
    {
      "cell_type": "code",
      "metadata": {
        "id": "oO0xiujrZPod"
      },
      "source": [
        "cv = CrossValidator(estimator=lr, estimatorParamMaps=paramGrid, evaluator=evaluatorLR, numFolds=5)\n",
        "\n",
        "cvModel = cv.fit(trainprepDF)"
      ],
      "execution_count": 55,
      "outputs": []
    },
    {
      "cell_type": "code",
      "metadata": {
        "id": "XflJNSe3fnqW"
      },
      "source": [
        "predictions = cvModel.bestModel.transform(testprepDF)"
      ],
      "execution_count": 56,
      "outputs": []
    },
    {
      "cell_type": "code",
      "metadata": {
        "id": "7z5gjAdDfncn",
        "outputId": "980b01cd-95a9-4042-e208-b47a8a670253",
        "colab": {
          "base_uri": "https://localhost:8080/",
          "height": 34
        }
      },
      "source": [
        "evaluatorLR.evaluate(predictions)"
      ],
      "execution_count": 57,
      "outputs": [
        {
          "output_type": "execute_result",
          "data": {
            "text/plain": [
              "0.7326892053834809"
            ]
          },
          "metadata": {
            "tags": []
          },
          "execution_count": 57
        }
      ]
    }
  ]
}