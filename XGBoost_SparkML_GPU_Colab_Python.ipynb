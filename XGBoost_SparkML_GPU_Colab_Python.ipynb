{
  "nbformat": 4,
  "nbformat_minor": 0,
  "metadata": {
    "colab": {
      "name": "XGBoost_SparkML_GPU_Colab_Python.ipynb",
      "provenance": [],
      "collapsed_sections": [],
      "authorship_tag": "ABX9TyPCEqSROa0mR3aY3R365Eag"
    },
    "kernelspec": {
      "name": "python3",
      "display_name": "Python 3"
    },
    "accelerator": "GPU"
  },
  "cells": [
    {
      "cell_type": "markdown",
      "metadata": {
        "id": "eKIutkK3XG56"
      },
      "source": [
        "#To check GPU details"
      ]
    },
    {
      "cell_type": "code",
      "metadata": {
        "colab": {
          "base_uri": "https://localhost:8080/"
        },
        "id": "obifrNQvzcMl",
        "outputId": "e5303a9a-70a3-4bbb-88ff-f9c391183244"
      },
      "source": [
        "!nvidia-smi"
      ],
      "execution_count": 1,
      "outputs": [
        {
          "output_type": "stream",
          "text": [
            "Wed Nov 18 14:38:34 2020       \n",
            "+-----------------------------------------------------------------------------+\n",
            "| NVIDIA-SMI 455.38       Driver Version: 418.67       CUDA Version: 10.1     |\n",
            "|-------------------------------+----------------------+----------------------+\n",
            "| GPU  Name        Persistence-M| Bus-Id        Disp.A | Volatile Uncorr. ECC |\n",
            "| Fan  Temp  Perf  Pwr:Usage/Cap|         Memory-Usage | GPU-Util  Compute M. |\n",
            "|                               |                      |               MIG M. |\n",
            "|===============================+======================+======================|\n",
            "|   0  Tesla P4            Off  | 00000000:00:04.0 Off |                    0 |\n",
            "| N/A   35C    P8     7W /  75W |      0MiB /  7611MiB |      0%      Default |\n",
            "|                               |                      |                 ERR! |\n",
            "+-------------------------------+----------------------+----------------------+\n",
            "                                                                               \n",
            "+-----------------------------------------------------------------------------+\n",
            "| Processes:                                                                  |\n",
            "|  GPU   GI   CI        PID   Type   Process name                  GPU Memory |\n",
            "|        ID   ID                                                   Usage      |\n",
            "|=============================================================================|\n",
            "|  No running processes found                                                 |\n",
            "+-----------------------------------------------------------------------------+\n"
          ],
          "name": "stdout"
        }
      ]
    },
    {
      "cell_type": "markdown",
      "metadata": {
        "id": "cGWRHn54W221"
      },
      "source": [
        "#Download & Install spark\n",
        "\n",
        "Apark is basically written in Scala so it requires jvm"
      ]
    },
    {
      "cell_type": "code",
      "metadata": {
        "id": "IVRxTrdm09xf"
      },
      "source": [
        "# install java\n",
        "!apt-get install openjdk-8-jdk-headless -qq > /dev/null\n",
        "\n",
        "# install spark (change the version number if needed)\n",
        "!wget -q https://archive.apache.org/dist/spark/spark-2.4.5/spark-2.4.5-bin-hadoop2.7.tgz\n",
        "\n",
        "# unzip the spark file to the current folder\n",
        "!tar xf spark-2.4.5-bin-hadoop2.7.tgz"
      ],
      "execution_count": 2,
      "outputs": []
    },
    {
      "cell_type": "code",
      "metadata": {
        "id": "odCRyYpGB30v"
      },
      "source": [
        "# install findspark \n",
        "!pip install -q findspark"
      ],
      "execution_count": 3,
      "outputs": []
    },
    {
      "cell_type": "markdown",
      "metadata": {
        "id": "gkyDSpWDW_P4"
      },
      "source": [
        "#Install libraries(from maven repository) to make support of XGBoost on Spark\n",
        "\n",
        "For GPU, we are gonna use rapid framework. For more details on rapid go through the video \"https://www.youtube.com/watch?v=pEuuK1GVscM\""
      ]
    },
    {
      "cell_type": "code",
      "metadata": {
        "colab": {
          "base_uri": "https://localhost:8080/"
        },
        "id": "OS6UjPHMEyju",
        "outputId": "9118b107-9329-453d-f64f-5d3cf1170628"
      },
      "source": [
        "!wget https://repo1.maven.org/maven2/ai/rapids/cudf/0.9.2/cudf-0.9.2-cuda10-1.jar\n",
        "!wget https://repo1.maven.org/maven2/ai/rapids/xgboost4j_2.x/1.0.0-Beta5/xgboost4j_2.x-1.0.0-Beta5.jar\n",
        "!wget https://repo1.maven.org/maven2/ai/rapids/xgboost4j-spark_2.x/1.0.0-Beta5/xgboost4j-spark_2.x-1.0.0-Beta5.jar"
      ],
      "execution_count": 4,
      "outputs": [
        {
          "output_type": "stream",
          "text": [
            "--2020-11-18 14:42:02--  https://repo1.maven.org/maven2/ai/rapids/cudf/0.9.2/cudf-0.9.2-cuda10-1.jar\n",
            "Resolving repo1.maven.org (repo1.maven.org)... 199.232.192.209, 199.232.196.209\n",
            "Connecting to repo1.maven.org (repo1.maven.org)|199.232.192.209|:443... connected.\n",
            "HTTP request sent, awaiting response... 200 OK\n",
            "Length: 64759406 (62M) [application/java-archive]\n",
            "Saving to: ‘cudf-0.9.2-cuda10-1.jar.1’\n",
            "\n",
            "cudf-0.9.2-cuda10-1 100%[===================>]  61.76M   103MB/s    in 0.6s    \n",
            "\n",
            "2020-11-18 14:42:02 (103 MB/s) - ‘cudf-0.9.2-cuda10-1.jar.1’ saved [64759406/64759406]\n",
            "\n",
            "--2020-11-18 14:42:02--  https://repo1.maven.org/maven2/ai/rapids/xgboost4j_2.x/1.0.0-Beta5/xgboost4j_2.x-1.0.0-Beta5.jar\n",
            "Resolving repo1.maven.org (repo1.maven.org)... 199.232.192.209, 199.232.196.209\n",
            "Connecting to repo1.maven.org (repo1.maven.org)|199.232.192.209|:443... connected.\n",
            "HTTP request sent, awaiting response... 200 OK\n",
            "Length: 349225621 (333M) [application/java-archive]\n",
            "Saving to: ‘xgboost4j_2.x-1.0.0-Beta5.jar.1’\n",
            "\n",
            "xgboost4j_2.x-1.0.0 100%[===================>] 333.05M   200MB/s    in 1.7s    \n",
            "\n",
            "2020-11-18 14:42:04 (200 MB/s) - ‘xgboost4j_2.x-1.0.0-Beta5.jar.1’ saved [349225621/349225621]\n",
            "\n",
            "--2020-11-18 14:42:04--  https://repo1.maven.org/maven2/ai/rapids/xgboost4j-spark_2.x/1.0.0-Beta5/xgboost4j-spark_2.x-1.0.0-Beta5.jar\n",
            "Resolving repo1.maven.org (repo1.maven.org)... 199.232.192.209, 199.232.196.209\n",
            "Connecting to repo1.maven.org (repo1.maven.org)|199.232.192.209|:443... connected.\n",
            "HTTP request sent, awaiting response... 200 OK\n",
            "Length: 4829218 (4.6M) [application/java-archive]\n",
            "Saving to: ‘xgboost4j-spark_2.x-1.0.0-Beta5.jar.1’\n",
            "\n",
            "xgboost4j-spark_2.x 100%[===================>]   4.61M  --.-KB/s    in 0.08s   \n",
            "\n",
            "2020-11-18 14:42:04 (55.1 MB/s) - ‘xgboost4j-spark_2.x-1.0.0-Beta5.jar.1’ saved [4829218/4829218]\n",
            "\n"
          ],
          "name": "stdout"
        }
      ]
    },
    {
      "cell_type": "code",
      "metadata": {
        "colab": {
          "base_uri": "https://localhost:8080/"
        },
        "id": "nxM69e-CITXy",
        "outputId": "ad9ba53e-454b-4460-b6e2-8babc9955478"
      },
      "source": [
        "!ls"
      ],
      "execution_count": 5,
      "outputs": [
        {
          "output_type": "stream",
          "text": [
            "covtype_test.parquet\t       spark-3.0.0-bin-hadoop3.2\n",
            "covtype_train.parquet\t       spark-3.0.0-bin-hadoop3.2.tgz\n",
            "cudf-0.9.2-cuda10-1.jar        xgboost4j_2.x-1.0.0-Beta5.jar\n",
            "cudf-0.9.2-cuda10-1.jar.1      xgboost4j_2.x-1.0.0-Beta5.jar.1\n",
            "sample_data\t\t       xgboost4j-spark_2.x-1.0.0-Beta5.jar\n",
            "spark-2.4.5-bin-hadoop2.7      xgboost4j-spark_2.x-1.0.0-Beta5.jar.1\n",
            "spark-2.4.5-bin-hadoop2.7.tgz\n"
          ],
          "name": "stdout"
        }
      ]
    },
    {
      "cell_type": "code",
      "metadata": {
        "colab": {
          "base_uri": "https://localhost:8080/"
        },
        "id": "NisezLnIIUkp",
        "outputId": "d1927d05-c2ae-4e7c-d0b6-2d212397362b"
      },
      "source": [
        "!pwd"
      ],
      "execution_count": 6,
      "outputs": [
        {
          "output_type": "stream",
          "text": [
            "/content\n"
          ],
          "name": "stdout"
        }
      ]
    },
    {
      "cell_type": "code",
      "metadata": {
        "id": "MEjRuSo1IQXZ"
      },
      "source": [
        "import os\n",
        "os.environ[\"JAVA_HOME\"] = \"/usr/lib/jvm/java-8-openjdk-amd64\"\n",
        "os.environ[\"SPARK_HOME\"] = \"/content/spark-2.4.5-bin-hadoop2.7\""
      ],
      "execution_count": 9,
      "outputs": []
    },
    {
      "cell_type": "code",
      "metadata": {
        "id": "hky6ZxnxKOHI"
      },
      "source": [
        "#os.environ['PYSPARK_SUBMIT_ARGS'] = '--jars /content/cudf-0.9.2-cuda10-1.jar,/content/xgboost4j_2.x-1.0.0-Beta5.jar,/content/xgboost4j-spark_2.x-1.0.0-Beta5.jar pyspark-shell'\n",
        "os.environ['PYSPARK_SUBMIT_ARGS'] = '--jars /content/cudf-0.9.2-cuda10-1.jar,/content/xgboost4j_2.x-1.0.0-Beta5.jar,/content/xgboost4j-spark_2.x-1.0.0-Beta5.jar pyspark-shell'"
      ],
      "execution_count": 10,
      "outputs": []
    },
    {
      "cell_type": "code",
      "metadata": {
        "id": "nWzCjkmNKTWk"
      },
      "source": [
        "import findspark\n",
        "findspark.init()\n",
        "from pyspark.sql import SparkSession\n",
        "spark = SparkSession.builder.master(\"local[*]\").getOrCreate()#using masterlocal environment\n",
        "spark.conf.set(\"spark.executor.memory\", \"2g\")\n",
        "spark.conf.set(\"spark.driver.memory\", \"2g\") #In this case executor and driver memory is going to be same bz i am not using distributed environment\n",
        "spark.sparkContext.addPyFile('/content/xgboost4j-spark_2.x-1.0.0-Beta5.jar') #Internally it has python binding for xgboost"
      ],
      "execution_count": 12,
      "outputs": []
    },
    {
      "cell_type": "code",
      "metadata": {
        "id": "kSo4K5tcKX5u"
      },
      "source": [
        "from ml.dmlc.xgboost4j.scala.spark import XGBoostClassificationModel, XGBoostClassifier\n",
        "from ml.dmlc.xgboost4j.scala.spark.rapids import GpuDataReader\n",
        "from pyspark.ml.evaluation import MulticlassClassificationEvaluator\n",
        "import numpy as np\n",
        "import pandas as pd"
      ],
      "execution_count": 13,
      "outputs": []
    },
    {
      "cell_type": "code",
      "metadata": {
        "id": "1BoOPXlWKn_l"
      },
      "source": [
        "from sklearn.datasets import fetch_openml\n",
        "covtyp = fetch_openml(name='covertype', version=4)"
      ],
      "execution_count": 14,
      "outputs": []
    },
    {
      "cell_type": "code",
      "metadata": {
        "colab": {
          "base_uri": "https://localhost:8080/",
          "height": 222
        },
        "id": "5swXgJWKM2Kg",
        "outputId": "4e1021d3-c501-44e6-ffbe-c909484e3ce8"
      },
      "source": [
        "covtyp.DESCR"
      ],
      "execution_count": 15,
      "outputs": [
        {
          "output_type": "execute_result",
          "data": {
            "application/vnd.google.colaboratory.intrinsic+json": {
              "type": "string"
            },
            "text/plain": [
              "'**Author**: Jock A. Blackard, Dr. Denis J. Dean, Dr. Charles W. Anderson  \\n**Source**: [UCI](https://archive.ics.uci.edu/ml/datasets/Covertype) - 1998  \\n\\nThis is the original version of the famous covertype dataset in ARFF format. \\n\\n**Covertype**  \\nPredicting forest cover type from cartographic variables only (no remotely sensed data). The actual forest cover type for a given observation (30 x 30 meter cell) was determined from US Forest Service (USFS) Region 2 Resource Information System &#40;RIS&#41; data. Independent variables were derived from data originally obtained from US Geological Survey (USGS) and USFS data. Data is in raw form (not scaled) and contains binary (0 or 1) columns of data for qualitative independent variables (wilderness areas and soil types). \\n\\nThis study area includes four wilderness areas located in the Roosevelt National Forest of northern Colorado. These areas represent forests with minimal human-caused disturbances, so that existing forest cover types are more a result of ecological processes rather than forest management practices. \\n\\nSome background information for these four wilderness areas: Neota (area 2) probably has the highest mean elevational value of the 4 wilderness areas. Rawah (area 1) and Comanche Peak (area 3) would have a lower mean elevational value, while Cache la Poudre (area 4) would have the lowest mean elevational value. \\n\\nAs for primary major tree species in these areas, Neota would have spruce/fir (type 1), while Rawah and Comanche Peak would probably have lodgepole pine (type 2) as their primary species, followed by spruce/fir and aspen (type 5). Cache la Poudre would tend to have Ponderosa pine (type 3), Douglas-fir (type 6), and cottonwood/willow (type 4). \\n\\nThe Rawah and Comanche Peak areas would tend to be more typical of the overall dataset than either the Neota or Cache la Poudre, due to their assortment of tree species and range of predictive variable values (elevation, etc.) Cache la Poudre would probably be more unique than the others, due to its relatively low elevation range and species composition.\\n\\nAttribute Information:  \\nGiven is the attribute name, attribute type, the measurement unit and a brief description. The forest cover type is the classification problem. The order of this listing corresponds to the order of numerals along the rows of the database. \\n>\\nName / Data Type / Measurement / Description  \\nElevation / quantitative /meters / Elevation in meters  \\nAspect / quantitative / azimuth / Aspect in degrees azimuth  \\nSlope / quantitative / degrees / Slope in degrees  \\nHorizontal_Distance_To_Hydrology / quantitative / meters / Horz Dist to nearest surface water features  \\nVertical_Distance_To_Hydrology / quantitative / meters / Vert Dist to nearest surface water features  \\nHorizontal_Distance_To_Roadways / quantitative / meters / Horz Dist to nearest roadway  \\nHillshade_9am / quantitative / 0 to 255 index / Hillshade index at 9am, summer solstice  \\nHillshade_Noon / quantitative / 0 to 255 index / Hillshade index at noon, summer solstice  \\nHillshade_3pm / quantitative / 0 to 255 index / Hillshade index at 3pm, summer solstice  \\nHorizontal_Distance_To_Fire_Points / quantitative / meters / Horz Dist to nearest wildfire ignition points  \\nWilderness_Area (4 binary columns) / qualitative / 0 (absence) or 1 (presence) / Wilderness area designation  \\nSoil_Type (40 binary columns) / qualitative / 0 (absence) or 1 (presence) / Soil Type designation  \\nCover_Type (7 types) / integer / 1 to 7 / Forest Cover Type designation \\n\\n\\nRelevant Papers:  \\n- Blackard, Jock A. and Denis J. Dean. 2000. \"Comparative Accuracies of Artificial Neural Networks and Discriminant Analysis in Predicting Forest Cover Types from Cartographic Variables.\" Computers and Electronics in Agriculture 24(3):131-151. \\n- Blackard, Jock A. and Denis J. Dean. 1998. \"Comparative Accuracies of Neural Networks and Discriminant Analysis in Predicting Forest Cover Types from Cartographic Variables.\" Second Southern Forestry GIS Conference. University of Georgia. Athens, GA. Pages 189-199. \\n- Blackard, Jock A. 1998. \"Comparison of Neural Networks and Discriminant Analysis in Predicting Forest Cover Types.\" Ph.D. dissertation. Department of Forest Sciences. Colorado State University. Fort Collins, Colorado. 165 pages.\\n\\nDownloaded from openml.org.'"
            ]
          },
          "metadata": {
            "tags": []
          },
          "execution_count": 15
        }
      ]
    },
    {
      "cell_type": "code",
      "metadata": {
        "colab": {
          "base_uri": "https://localhost:8080/"
        },
        "id": "gW03LZbgLIDJ",
        "outputId": "9f407fd4-e6f8-46a3-9a40-3e4cd25114c5"
      },
      "source": [
        "covtyp.data.shape"
      ],
      "execution_count": 16,
      "outputs": [
        {
          "output_type": "execute_result",
          "data": {
            "text/plain": [
              "(581012, 54)"
            ]
          },
          "metadata": {
            "tags": []
          },
          "execution_count": 16
        }
      ]
    },
    {
      "cell_type": "code",
      "metadata": {
        "colab": {
          "base_uri": "https://localhost:8080/"
        },
        "id": "y1PHsaRhOLPg",
        "outputId": "eb80a453-2ff4-4767-8280-f514a6e7837b"
      },
      "source": [
        "covtyp['feature_names']"
      ],
      "execution_count": 17,
      "outputs": [
        {
          "output_type": "execute_result",
          "data": {
            "text/plain": [
              "['Elevation',\n",
              " 'Aspect',\n",
              " 'Slope',\n",
              " 'Horizontal_Distance_To_Hydrology',\n",
              " 'Vertical_Distance_To_Hydrology',\n",
              " 'Horizontal_Distance_To_Roadways',\n",
              " 'Hillshade_9am',\n",
              " 'Hillshade_Noon',\n",
              " 'Hillshade_3pm',\n",
              " 'Horizontal_Distance_To_Fire_Points',\n",
              " 'Wilderness_Area1',\n",
              " 'Wilderness_Area2',\n",
              " 'Wilderness_Area3',\n",
              " 'Wilderness_Area4',\n",
              " 'Soil_Type1',\n",
              " 'Soil_Type2',\n",
              " 'Soil_Type3',\n",
              " 'Soil_Type4',\n",
              " 'Soil_Type5',\n",
              " 'Soil_Type6',\n",
              " 'Soil_Type7',\n",
              " 'Soil_Type8',\n",
              " 'Soil_Type9',\n",
              " 'Soil_Type10',\n",
              " 'Soil_Type11',\n",
              " 'Soil_Type12',\n",
              " 'Soil_Type13',\n",
              " 'Soil_Type14',\n",
              " 'Soil_Type15',\n",
              " 'Soil_Type16',\n",
              " 'Soil_Type17',\n",
              " 'Soil_Type18',\n",
              " 'Soil_Type19',\n",
              " 'Soil_Type20',\n",
              " 'Soil_Type21',\n",
              " 'Soil_Type22',\n",
              " 'Soil_Type23',\n",
              " 'Soil_Type24',\n",
              " 'Soil_Type25',\n",
              " 'Soil_Type26',\n",
              " 'Soil_Type27',\n",
              " 'Soil_Type28',\n",
              " 'Soil_Type29',\n",
              " 'Soil_Type30',\n",
              " 'Soil_Type31',\n",
              " 'Soil_Type32',\n",
              " 'Soil_Type33',\n",
              " 'Soil_Type34',\n",
              " 'Soil_Type35',\n",
              " 'Soil_Type36',\n",
              " 'Soil_Type37',\n",
              " 'Soil_Type38',\n",
              " 'Soil_Type39',\n",
              " 'Soil_Type40']"
            ]
          },
          "metadata": {
            "tags": []
          },
          "execution_count": 17
        }
      ]
    },
    {
      "cell_type": "code",
      "metadata": {
        "colab": {
          "base_uri": "https://localhost:8080/"
        },
        "id": "kulDfACtLKbo",
        "outputId": "7e1fb850-973e-4db8-e471-1dfca1857a7d"
      },
      "source": [
        "np.unique(covtyp.target)"
      ],
      "execution_count": 18,
      "outputs": [
        {
          "output_type": "execute_result",
          "data": {
            "text/plain": [
              "array(['1', '2', '3', '4', '5', '6', '7'], dtype=object)"
            ]
          },
          "metadata": {
            "tags": []
          },
          "execution_count": 18
        }
      ]
    },
    {
      "cell_type": "code",
      "metadata": {
        "id": "I_CPmN5dLQE2"
      },
      "source": [
        "cov_df = pd.DataFrame(data= np.c_[covtyp['data'], covtyp['target']],\n",
        "                     columns= covtyp['feature_names'] + ['target'])"
      ],
      "execution_count": 19,
      "outputs": []
    },
    {
      "cell_type": "code",
      "metadata": {
        "colab": {
          "base_uri": "https://localhost:8080/"
        },
        "id": "KG_OHimBLZBY",
        "outputId": "e93068be-ec0f-4201-9456-27ed13bf1e06"
      },
      "source": [
        "cov_df.memory_usage(index=True).sum()"
      ],
      "execution_count": 20,
      "outputs": [
        {
          "output_type": "execute_result",
          "data": {
            "text/plain": [
              "255645408"
            ]
          },
          "metadata": {
            "tags": []
          },
          "execution_count": 20
        }
      ]
    },
    {
      "cell_type": "code",
      "metadata": {
        "colab": {
          "base_uri": "https://localhost:8080/",
          "height": 224
        },
        "id": "7-ERsi6NLcTy",
        "outputId": "caacb6b9-a349-4947-fb66-9cb0a11827fd"
      },
      "source": [
        "cov_df.head()"
      ],
      "execution_count": 21,
      "outputs": [
        {
          "output_type": "execute_result",
          "data": {
            "text/html": [
              "<div>\n",
              "<style scoped>\n",
              "    .dataframe tbody tr th:only-of-type {\n",
              "        vertical-align: middle;\n",
              "    }\n",
              "\n",
              "    .dataframe tbody tr th {\n",
              "        vertical-align: top;\n",
              "    }\n",
              "\n",
              "    .dataframe thead th {\n",
              "        text-align: right;\n",
              "    }\n",
              "</style>\n",
              "<table border=\"1\" class=\"dataframe\">\n",
              "  <thead>\n",
              "    <tr style=\"text-align: right;\">\n",
              "      <th></th>\n",
              "      <th>Elevation</th>\n",
              "      <th>Aspect</th>\n",
              "      <th>Slope</th>\n",
              "      <th>Horizontal_Distance_To_Hydrology</th>\n",
              "      <th>Vertical_Distance_To_Hydrology</th>\n",
              "      <th>Horizontal_Distance_To_Roadways</th>\n",
              "      <th>Hillshade_9am</th>\n",
              "      <th>Hillshade_Noon</th>\n",
              "      <th>Hillshade_3pm</th>\n",
              "      <th>Horizontal_Distance_To_Fire_Points</th>\n",
              "      <th>Wilderness_Area1</th>\n",
              "      <th>Wilderness_Area2</th>\n",
              "      <th>Wilderness_Area3</th>\n",
              "      <th>Wilderness_Area4</th>\n",
              "      <th>Soil_Type1</th>\n",
              "      <th>Soil_Type2</th>\n",
              "      <th>Soil_Type3</th>\n",
              "      <th>Soil_Type4</th>\n",
              "      <th>Soil_Type5</th>\n",
              "      <th>Soil_Type6</th>\n",
              "      <th>Soil_Type7</th>\n",
              "      <th>Soil_Type8</th>\n",
              "      <th>Soil_Type9</th>\n",
              "      <th>Soil_Type10</th>\n",
              "      <th>Soil_Type11</th>\n",
              "      <th>Soil_Type12</th>\n",
              "      <th>Soil_Type13</th>\n",
              "      <th>Soil_Type14</th>\n",
              "      <th>Soil_Type15</th>\n",
              "      <th>Soil_Type16</th>\n",
              "      <th>Soil_Type17</th>\n",
              "      <th>Soil_Type18</th>\n",
              "      <th>Soil_Type19</th>\n",
              "      <th>Soil_Type20</th>\n",
              "      <th>Soil_Type21</th>\n",
              "      <th>Soil_Type22</th>\n",
              "      <th>Soil_Type23</th>\n",
              "      <th>Soil_Type24</th>\n",
              "      <th>Soil_Type25</th>\n",
              "      <th>Soil_Type26</th>\n",
              "      <th>Soil_Type27</th>\n",
              "      <th>Soil_Type28</th>\n",
              "      <th>Soil_Type29</th>\n",
              "      <th>Soil_Type30</th>\n",
              "      <th>Soil_Type31</th>\n",
              "      <th>Soil_Type32</th>\n",
              "      <th>Soil_Type33</th>\n",
              "      <th>Soil_Type34</th>\n",
              "      <th>Soil_Type35</th>\n",
              "      <th>Soil_Type36</th>\n",
              "      <th>Soil_Type37</th>\n",
              "      <th>Soil_Type38</th>\n",
              "      <th>Soil_Type39</th>\n",
              "      <th>Soil_Type40</th>\n",
              "      <th>target</th>\n",
              "    </tr>\n",
              "  </thead>\n",
              "  <tbody>\n",
              "    <tr>\n",
              "      <th>0</th>\n",
              "      <td>2596</td>\n",
              "      <td>51</td>\n",
              "      <td>3</td>\n",
              "      <td>258</td>\n",
              "      <td>0</td>\n",
              "      <td>510</td>\n",
              "      <td>221</td>\n",
              "      <td>232</td>\n",
              "      <td>148</td>\n",
              "      <td>6279</td>\n",
              "      <td>1</td>\n",
              "      <td>0</td>\n",
              "      <td>0</td>\n",
              "      <td>0</td>\n",
              "      <td>0</td>\n",
              "      <td>0</td>\n",
              "      <td>0</td>\n",
              "      <td>0</td>\n",
              "      <td>0</td>\n",
              "      <td>0</td>\n",
              "      <td>0</td>\n",
              "      <td>0</td>\n",
              "      <td>0</td>\n",
              "      <td>0</td>\n",
              "      <td>0</td>\n",
              "      <td>0</td>\n",
              "      <td>0</td>\n",
              "      <td>0</td>\n",
              "      <td>0</td>\n",
              "      <td>0</td>\n",
              "      <td>0</td>\n",
              "      <td>0</td>\n",
              "      <td>0</td>\n",
              "      <td>0</td>\n",
              "      <td>0</td>\n",
              "      <td>0</td>\n",
              "      <td>0</td>\n",
              "      <td>0</td>\n",
              "      <td>0</td>\n",
              "      <td>0</td>\n",
              "      <td>0</td>\n",
              "      <td>0</td>\n",
              "      <td>1</td>\n",
              "      <td>0</td>\n",
              "      <td>0</td>\n",
              "      <td>0</td>\n",
              "      <td>0</td>\n",
              "      <td>0</td>\n",
              "      <td>0</td>\n",
              "      <td>0</td>\n",
              "      <td>0</td>\n",
              "      <td>0</td>\n",
              "      <td>0</td>\n",
              "      <td>0</td>\n",
              "      <td>5</td>\n",
              "    </tr>\n",
              "    <tr>\n",
              "      <th>1</th>\n",
              "      <td>2590</td>\n",
              "      <td>56</td>\n",
              "      <td>2</td>\n",
              "      <td>212</td>\n",
              "      <td>-6</td>\n",
              "      <td>390</td>\n",
              "      <td>220</td>\n",
              "      <td>235</td>\n",
              "      <td>151</td>\n",
              "      <td>6225</td>\n",
              "      <td>1</td>\n",
              "      <td>0</td>\n",
              "      <td>0</td>\n",
              "      <td>0</td>\n",
              "      <td>0</td>\n",
              "      <td>0</td>\n",
              "      <td>0</td>\n",
              "      <td>0</td>\n",
              "      <td>0</td>\n",
              "      <td>0</td>\n",
              "      <td>0</td>\n",
              "      <td>0</td>\n",
              "      <td>0</td>\n",
              "      <td>0</td>\n",
              "      <td>0</td>\n",
              "      <td>0</td>\n",
              "      <td>0</td>\n",
              "      <td>0</td>\n",
              "      <td>0</td>\n",
              "      <td>0</td>\n",
              "      <td>0</td>\n",
              "      <td>0</td>\n",
              "      <td>0</td>\n",
              "      <td>0</td>\n",
              "      <td>0</td>\n",
              "      <td>0</td>\n",
              "      <td>0</td>\n",
              "      <td>0</td>\n",
              "      <td>0</td>\n",
              "      <td>0</td>\n",
              "      <td>0</td>\n",
              "      <td>0</td>\n",
              "      <td>1</td>\n",
              "      <td>0</td>\n",
              "      <td>0</td>\n",
              "      <td>0</td>\n",
              "      <td>0</td>\n",
              "      <td>0</td>\n",
              "      <td>0</td>\n",
              "      <td>0</td>\n",
              "      <td>0</td>\n",
              "      <td>0</td>\n",
              "      <td>0</td>\n",
              "      <td>0</td>\n",
              "      <td>5</td>\n",
              "    </tr>\n",
              "    <tr>\n",
              "      <th>2</th>\n",
              "      <td>2804</td>\n",
              "      <td>139</td>\n",
              "      <td>9</td>\n",
              "      <td>268</td>\n",
              "      <td>65</td>\n",
              "      <td>3180</td>\n",
              "      <td>234</td>\n",
              "      <td>238</td>\n",
              "      <td>135</td>\n",
              "      <td>6121</td>\n",
              "      <td>1</td>\n",
              "      <td>0</td>\n",
              "      <td>0</td>\n",
              "      <td>0</td>\n",
              "      <td>0</td>\n",
              "      <td>0</td>\n",
              "      <td>0</td>\n",
              "      <td>0</td>\n",
              "      <td>0</td>\n",
              "      <td>0</td>\n",
              "      <td>0</td>\n",
              "      <td>0</td>\n",
              "      <td>0</td>\n",
              "      <td>0</td>\n",
              "      <td>0</td>\n",
              "      <td>1</td>\n",
              "      <td>0</td>\n",
              "      <td>0</td>\n",
              "      <td>0</td>\n",
              "      <td>0</td>\n",
              "      <td>0</td>\n",
              "      <td>0</td>\n",
              "      <td>0</td>\n",
              "      <td>0</td>\n",
              "      <td>0</td>\n",
              "      <td>0</td>\n",
              "      <td>0</td>\n",
              "      <td>0</td>\n",
              "      <td>0</td>\n",
              "      <td>0</td>\n",
              "      <td>0</td>\n",
              "      <td>0</td>\n",
              "      <td>0</td>\n",
              "      <td>0</td>\n",
              "      <td>0</td>\n",
              "      <td>0</td>\n",
              "      <td>0</td>\n",
              "      <td>0</td>\n",
              "      <td>0</td>\n",
              "      <td>0</td>\n",
              "      <td>0</td>\n",
              "      <td>0</td>\n",
              "      <td>0</td>\n",
              "      <td>0</td>\n",
              "      <td>2</td>\n",
              "    </tr>\n",
              "    <tr>\n",
              "      <th>3</th>\n",
              "      <td>2785</td>\n",
              "      <td>155</td>\n",
              "      <td>18</td>\n",
              "      <td>242</td>\n",
              "      <td>118</td>\n",
              "      <td>3090</td>\n",
              "      <td>238</td>\n",
              "      <td>238</td>\n",
              "      <td>122</td>\n",
              "      <td>6211</td>\n",
              "      <td>1</td>\n",
              "      <td>0</td>\n",
              "      <td>0</td>\n",
              "      <td>0</td>\n",
              "      <td>0</td>\n",
              "      <td>0</td>\n",
              "      <td>0</td>\n",
              "      <td>0</td>\n",
              "      <td>0</td>\n",
              "      <td>0</td>\n",
              "      <td>0</td>\n",
              "      <td>0</td>\n",
              "      <td>0</td>\n",
              "      <td>0</td>\n",
              "      <td>0</td>\n",
              "      <td>0</td>\n",
              "      <td>0</td>\n",
              "      <td>0</td>\n",
              "      <td>0</td>\n",
              "      <td>0</td>\n",
              "      <td>0</td>\n",
              "      <td>0</td>\n",
              "      <td>0</td>\n",
              "      <td>0</td>\n",
              "      <td>0</td>\n",
              "      <td>0</td>\n",
              "      <td>0</td>\n",
              "      <td>0</td>\n",
              "      <td>0</td>\n",
              "      <td>0</td>\n",
              "      <td>0</td>\n",
              "      <td>0</td>\n",
              "      <td>0</td>\n",
              "      <td>1</td>\n",
              "      <td>0</td>\n",
              "      <td>0</td>\n",
              "      <td>0</td>\n",
              "      <td>0</td>\n",
              "      <td>0</td>\n",
              "      <td>0</td>\n",
              "      <td>0</td>\n",
              "      <td>0</td>\n",
              "      <td>0</td>\n",
              "      <td>0</td>\n",
              "      <td>2</td>\n",
              "    </tr>\n",
              "    <tr>\n",
              "      <th>4</th>\n",
              "      <td>2595</td>\n",
              "      <td>45</td>\n",
              "      <td>2</td>\n",
              "      <td>153</td>\n",
              "      <td>-1</td>\n",
              "      <td>391</td>\n",
              "      <td>220</td>\n",
              "      <td>234</td>\n",
              "      <td>150</td>\n",
              "      <td>6172</td>\n",
              "      <td>1</td>\n",
              "      <td>0</td>\n",
              "      <td>0</td>\n",
              "      <td>0</td>\n",
              "      <td>0</td>\n",
              "      <td>0</td>\n",
              "      <td>0</td>\n",
              "      <td>0</td>\n",
              "      <td>0</td>\n",
              "      <td>0</td>\n",
              "      <td>0</td>\n",
              "      <td>0</td>\n",
              "      <td>0</td>\n",
              "      <td>0</td>\n",
              "      <td>0</td>\n",
              "      <td>0</td>\n",
              "      <td>0</td>\n",
              "      <td>0</td>\n",
              "      <td>0</td>\n",
              "      <td>0</td>\n",
              "      <td>0</td>\n",
              "      <td>0</td>\n",
              "      <td>0</td>\n",
              "      <td>0</td>\n",
              "      <td>0</td>\n",
              "      <td>0</td>\n",
              "      <td>0</td>\n",
              "      <td>0</td>\n",
              "      <td>0</td>\n",
              "      <td>0</td>\n",
              "      <td>0</td>\n",
              "      <td>0</td>\n",
              "      <td>1</td>\n",
              "      <td>0</td>\n",
              "      <td>0</td>\n",
              "      <td>0</td>\n",
              "      <td>0</td>\n",
              "      <td>0</td>\n",
              "      <td>0</td>\n",
              "      <td>0</td>\n",
              "      <td>0</td>\n",
              "      <td>0</td>\n",
              "      <td>0</td>\n",
              "      <td>0</td>\n",
              "      <td>5</td>\n",
              "    </tr>\n",
              "  </tbody>\n",
              "</table>\n",
              "</div>"
            ],
            "text/plain": [
              "  Elevation Aspect Slope  ... Soil_Type39 Soil_Type40 target\n",
              "0      2596     51     3  ...           0           0      5\n",
              "1      2590     56     2  ...           0           0      5\n",
              "2      2804    139     9  ...           0           0      2\n",
              "3      2785    155    18  ...           0           0      2\n",
              "4      2595     45     2  ...           0           0      5\n",
              "\n",
              "[5 rows x 55 columns]"
            ]
          },
          "metadata": {
            "tags": []
          },
          "execution_count": 21
        }
      ]
    },
    {
      "cell_type": "code",
      "metadata": {
        "colab": {
          "base_uri": "https://localhost:8080/"
        },
        "id": "6d8rvbTgLeep",
        "outputId": "28ab9d52-9606-4b0f-a922-f254508df845"
      },
      "source": [
        "print (\"Rows     : \" ,cov_df.shape[0])\n",
        "print (\"Columns  : \" ,cov_df.shape[1])"
      ],
      "execution_count": 22,
      "outputs": [
        {
          "output_type": "stream",
          "text": [
            "Rows     :  581012\n",
            "Columns  :  55\n"
          ],
          "name": "stdout"
        }
      ]
    },
    {
      "cell_type": "code",
      "metadata": {
        "colab": {
          "base_uri": "https://localhost:8080/"
        },
        "id": "8BajDx4ILhhO",
        "outputId": "b9d8603c-d98b-4697-8b99-eab1d39afa65"
      },
      "source": [
        "cov_df.target.value_counts()"
      ],
      "execution_count": 23,
      "outputs": [
        {
          "output_type": "execute_result",
          "data": {
            "text/plain": [
              "2    283301\n",
              "1    211840\n",
              "3     35754\n",
              "7     20510\n",
              "6     17367\n",
              "5      9493\n",
              "4      2747\n",
              "Name: target, dtype: int64"
            ]
          },
          "metadata": {
            "tags": []
          },
          "execution_count": 23
        }
      ]
    },
    {
      "cell_type": "code",
      "metadata": {
        "colab": {
          "base_uri": "https://localhost:8080/"
        },
        "id": "fh8FBWCSLmSA",
        "outputId": "344d32b3-e069-484c-ba5f-fd540e3f530d"
      },
      "source": [
        "cov_df.dtypes"
      ],
      "execution_count": 24,
      "outputs": [
        {
          "output_type": "execute_result",
          "data": {
            "text/plain": [
              "Elevation                             object\n",
              "Aspect                                object\n",
              "Slope                                 object\n",
              "Horizontal_Distance_To_Hydrology      object\n",
              "Vertical_Distance_To_Hydrology        object\n",
              "Horizontal_Distance_To_Roadways       object\n",
              "Hillshade_9am                         object\n",
              "Hillshade_Noon                        object\n",
              "Hillshade_3pm                         object\n",
              "Horizontal_Distance_To_Fire_Points    object\n",
              "Wilderness_Area1                      object\n",
              "Wilderness_Area2                      object\n",
              "Wilderness_Area3                      object\n",
              "Wilderness_Area4                      object\n",
              "Soil_Type1                            object\n",
              "Soil_Type2                            object\n",
              "Soil_Type3                            object\n",
              "Soil_Type4                            object\n",
              "Soil_Type5                            object\n",
              "Soil_Type6                            object\n",
              "Soil_Type7                            object\n",
              "Soil_Type8                            object\n",
              "Soil_Type9                            object\n",
              "Soil_Type10                           object\n",
              "Soil_Type11                           object\n",
              "Soil_Type12                           object\n",
              "Soil_Type13                           object\n",
              "Soil_Type14                           object\n",
              "Soil_Type15                           object\n",
              "Soil_Type16                           object\n",
              "Soil_Type17                           object\n",
              "Soil_Type18                           object\n",
              "Soil_Type19                           object\n",
              "Soil_Type20                           object\n",
              "Soil_Type21                           object\n",
              "Soil_Type22                           object\n",
              "Soil_Type23                           object\n",
              "Soil_Type24                           object\n",
              "Soil_Type25                           object\n",
              "Soil_Type26                           object\n",
              "Soil_Type27                           object\n",
              "Soil_Type28                           object\n",
              "Soil_Type29                           object\n",
              "Soil_Type30                           object\n",
              "Soil_Type31                           object\n",
              "Soil_Type32                           object\n",
              "Soil_Type33                           object\n",
              "Soil_Type34                           object\n",
              "Soil_Type35                           object\n",
              "Soil_Type36                           object\n",
              "Soil_Type37                           object\n",
              "Soil_Type38                           object\n",
              "Soil_Type39                           object\n",
              "Soil_Type40                           object\n",
              "target                                object\n",
              "dtype: object"
            ]
          },
          "metadata": {
            "tags": []
          },
          "execution_count": 24
        }
      ]
    },
    {
      "cell_type": "code",
      "metadata": {
        "id": "kx_FyLSvLn27"
      },
      "source": [
        "for cols in cov_df.columns:\n",
        "  cov_df[cols] = pd.to_numeric(cov_df[cols])"
      ],
      "execution_count": 25,
      "outputs": []
    },
    {
      "cell_type": "markdown",
      "metadata": {
        "id": "10Vy4IHbBSwk"
      },
      "source": [
        "class is from 1 to 7, make it 0 to 6"
      ]
    },
    {
      "cell_type": "code",
      "metadata": {
        "id": "JPGyLkYsPrVi"
      },
      "source": [
        "cov_df['target'] = cov_df['target']-1"
      ],
      "execution_count": 26,
      "outputs": []
    },
    {
      "cell_type": "markdown",
      "metadata": {
        "id": "aojfrKGhBcGP"
      },
      "source": [
        "#Split the dataset"
      ]
    },
    {
      "cell_type": "code",
      "metadata": {
        "id": "tfYlizA3P4lR"
      },
      "source": [
        "train_df=cov_df.sample(frac=0.8,random_state=10) #sklearn train_test_split can also be used \n",
        "test_df=cov_df.drop(train_df.index)"
      ],
      "execution_count": 27,
      "outputs": []
    },
    {
      "cell_type": "code",
      "metadata": {
        "colab": {
          "base_uri": "https://localhost:8080/"
        },
        "id": "Yd5FAHeoP9Y1",
        "outputId": "31b25f5a-bbca-4ec2-dbac-f60552b0d1cf"
      },
      "source": [
        "train_df.to_parquet(fname='covtype_train.parquet',compression='snappy', index=False)\n",
        "test_df.to_parquet(fname='covtype_test.parquet',compression='snappy', index=False)"
      ],
      "execution_count": 28,
      "outputs": [
        {
          "output_type": "stream",
          "text": [
            "/usr/local/lib/python3.6/dist-packages/ipykernel_launcher.py:1: FutureWarning: the 'fname'' keyword is deprecated, use 'path' instead\n",
            "  \"\"\"Entry point for launching an IPython kernel.\n",
            "/usr/local/lib/python3.6/dist-packages/ipykernel_launcher.py:2: FutureWarning: the 'fname'' keyword is deprecated, use 'path' instead\n",
            "  \n"
          ],
          "name": "stderr"
        }
      ]
    },
    {
      "cell_type": "code",
      "metadata": {
        "colab": {
          "base_uri": "https://localhost:8080/"
        },
        "id": "XbFta9uuQGe8",
        "outputId": "6731d371-8918-4155-b2ab-d897e6cf1961"
      },
      "source": [
        "!ls"
      ],
      "execution_count": 29,
      "outputs": [
        {
          "output_type": "stream",
          "text": [
            "covtype_test.parquet\t       spark-3.0.0-bin-hadoop3.2\n",
            "covtype_train.parquet\t       spark-3.0.0-bin-hadoop3.2.tgz\n",
            "cudf-0.9.2-cuda10-1.jar        xgboost4j_2.x-1.0.0-Beta5.jar\n",
            "cudf-0.9.2-cuda10-1.jar.1      xgboost4j_2.x-1.0.0-Beta5.jar.1\n",
            "sample_data\t\t       xgboost4j-spark_2.x-1.0.0-Beta5.jar\n",
            "spark-2.4.5-bin-hadoop2.7      xgboost4j-spark_2.x-1.0.0-Beta5.jar.1\n",
            "spark-2.4.5-bin-hadoop2.7.tgz\n"
          ],
          "name": "stdout"
        }
      ]
    },
    {
      "cell_type": "code",
      "metadata": {
        "id": "rETd2V0xQHvD"
      },
      "source": [
        "#Pyarrow allows transmission of data without serialization/deserialization between mutliple framework\n",
        "import pyarrow.parquet as pq"
      ],
      "execution_count": 30,
      "outputs": []
    },
    {
      "cell_type": "code",
      "metadata": {
        "colab": {
          "base_uri": "https://localhost:8080/"
        },
        "id": "-vqHgDsMQNAT",
        "outputId": "c7fe532a-b829-4f35-e353-f14fb374b772"
      },
      "source": [
        "pq.read_table('covtype_train.parquet')"
      ],
      "execution_count": 31,
      "outputs": [
        {
          "output_type": "execute_result",
          "data": {
            "text/plain": [
              "pyarrow.Table\n",
              "Elevation: double\n",
              "Aspect: double\n",
              "Slope: double\n",
              "Horizontal_Distance_To_Hydrology: double\n",
              "Vertical_Distance_To_Hydrology: double\n",
              "Horizontal_Distance_To_Roadways: double\n",
              "Hillshade_9am: double\n",
              "Hillshade_Noon: double\n",
              "Hillshade_3pm: double\n",
              "Horizontal_Distance_To_Fire_Points: double\n",
              "Wilderness_Area1: double\n",
              "Wilderness_Area2: double\n",
              "Wilderness_Area3: double\n",
              "Wilderness_Area4: double\n",
              "Soil_Type1: double\n",
              "Soil_Type2: double\n",
              "Soil_Type3: double\n",
              "Soil_Type4: double\n",
              "Soil_Type5: double\n",
              "Soil_Type6: double\n",
              "Soil_Type7: double\n",
              "Soil_Type8: double\n",
              "Soil_Type9: double\n",
              "Soil_Type10: double\n",
              "Soil_Type11: double\n",
              "Soil_Type12: double\n",
              "Soil_Type13: double\n",
              "Soil_Type14: double\n",
              "Soil_Type15: double\n",
              "Soil_Type16: double\n",
              "Soil_Type17: double\n",
              "Soil_Type18: double\n",
              "Soil_Type19: double\n",
              "Soil_Type20: double\n",
              "Soil_Type21: double\n",
              "Soil_Type22: double\n",
              "Soil_Type23: double\n",
              "Soil_Type24: double\n",
              "Soil_Type25: double\n",
              "Soil_Type26: double\n",
              "Soil_Type27: double\n",
              "Soil_Type28: double\n",
              "Soil_Type29: double\n",
              "Soil_Type30: double\n",
              "Soil_Type31: double\n",
              "Soil_Type32: double\n",
              "Soil_Type33: double\n",
              "Soil_Type34: double\n",
              "Soil_Type35: double\n",
              "Soil_Type36: double\n",
              "Soil_Type37: double\n",
              "Soil_Type38: double\n",
              "Soil_Type39: double\n",
              "Soil_Type40: double\n",
              "target: int64\n",
              "metadata\n",
              "--------\n",
              "OrderedDict([(b'pandas',\n",
              "              b'{\"index_columns\": [], \"column_indexes\": [], \"columns\": [{\"na'\n",
              "              b'me\": \"Elevation\", \"field_name\": \"Elevation\", \"pandas_type\": '\n",
              "              b'\"float64\", \"numpy_type\": \"float64\", \"metadata\": null}, {\"nam'\n",
              "              b'e\": \"Aspect\", \"field_name\": \"Aspect\", \"pandas_type\": \"float6'\n",
              "              b'4\", \"numpy_type\": \"float64\", \"metadata\": null}, {\"name\": \"Sl'\n",
              "              b'ope\", \"field_name\": \"Slope\", \"pandas_type\": \"float64\", \"nump'\n",
              "              b'y_type\": \"float64\", \"metadata\": null}, {\"name\": \"Horizontal_'\n",
              "              b'Distance_To_Hydrology\", \"field_name\": \"Horizontal_Distance_T'\n",
              "              b'o_Hydrology\", \"pandas_type\": \"float64\", \"numpy_type\": \"float'\n",
              "              b'64\", \"metadata\": null}, {\"name\": \"Vertical_Distance_To_Hydro'\n",
              "              b'logy\", \"field_name\": \"Vertical_Distance_To_Hydrology\", \"pand'\n",
              "              b'as_type\": \"float64\", \"numpy_type\": \"float64\", \"metadata\": nu'\n",
              "              b'll}, {\"name\": \"Horizontal_Distance_To_Roadways\", \"field_name'\n",
              "              b'\": \"Horizontal_Distance_To_Roadways\", \"pandas_type\": \"float6'\n",
              "              b'4\", \"numpy_type\": \"float64\", \"metadata\": null}, {\"name\": \"Hi'\n",
              "              b'llshade_9am\", \"field_name\": \"Hillshade_9am\", \"pandas_type\": '\n",
              "              b'\"float64\", \"numpy_type\": \"float64\", \"metadata\": null}, {\"nam'\n",
              "              b'e\": \"Hillshade_Noon\", \"field_name\": \"Hillshade_Noon\", \"panda'\n",
              "              b's_type\": \"float64\", \"numpy_type\": \"float64\", \"metadata\": nul'\n",
              "              b'l}, {\"name\": \"Hillshade_3pm\", \"field_name\": \"Hillshade_3pm\",'\n",
              "              b' \"pandas_type\": \"float64\", \"numpy_type\": \"float64\", \"metadat'\n",
              "              b'a\": null}, {\"name\": \"Horizontal_Distance_To_Fire_Points\", \"f'\n",
              "              b'ield_name\": \"Horizontal_Distance_To_Fire_Points\", \"pandas_ty'\n",
              "              b'pe\": \"float64\", \"numpy_type\": \"float64\", \"metadata\": null}, '\n",
              "              b'{\"name\": \"Wilderness_Area1\", \"field_name\": \"Wilderness_Area1'\n",
              "              b'\", \"pandas_type\": \"float64\", \"numpy_type\": \"float64\", \"metad'\n",
              "              b'ata\": null}, {\"name\": \"Wilderness_Area2\", \"field_name\": \"Wil'\n",
              "              b'derness_Area2\", \"pandas_type\": \"float64\", \"numpy_type\": \"flo'\n",
              "              b'at64\", \"metadata\": null}, {\"name\": \"Wilderness_Area3\", \"fiel'\n",
              "              b'd_name\": \"Wilderness_Area3\", \"pandas_type\": \"float64\", \"nump'\n",
              "              b'y_type\": \"float64\", \"metadata\": null}, {\"name\": \"Wilderness_'\n",
              "              b'Area4\", \"field_name\": \"Wilderness_Area4\", \"pandas_type\": \"fl'\n",
              "              b'oat64\", \"numpy_type\": \"float64\", \"metadata\": null}, {\"name\":'\n",
              "              b' \"Soil_Type1\", \"field_name\": \"Soil_Type1\", \"pandas_type\": \"f'\n",
              "              b'loat64\", \"numpy_type\": \"float64\", \"metadata\": null}, {\"name\"'\n",
              "              b': \"Soil_Type2\", \"field_name\": \"Soil_Type2\", \"pandas_type\": \"'\n",
              "              b'float64\", \"numpy_type\": \"float64\", \"metadata\": null}, {\"name'\n",
              "              b'\": \"Soil_Type3\", \"field_name\": \"Soil_Type3\", \"pandas_type\": '\n",
              "              b'\"float64\", \"numpy_type\": \"float64\", \"metadata\": null}, {\"nam'\n",
              "              b'e\": \"Soil_Type4\", \"field_name\": \"Soil_Type4\", \"pandas_type\":'\n",
              "              b' \"float64\", \"numpy_type\": \"float64\", \"metadata\": null}, {\"na'\n",
              "              b'me\": \"Soil_Type5\", \"field_name\": \"Soil_Type5\", \"pandas_type\"'\n",
              "              b': \"float64\", \"numpy_type\": \"float64\", \"metadata\": null}, {\"n'\n",
              "              b'ame\": \"Soil_Type6\", \"field_name\": \"Soil_Type6\", \"pandas_type'\n",
              "              b'\": \"float64\", \"numpy_type\": \"float64\", \"metadata\": null}, {\"'\n",
              "              b'name\": \"Soil_Type7\", \"field_name\": \"Soil_Type7\", \"pandas_typ'\n",
              "              b'e\": \"float64\", \"numpy_type\": \"float64\", \"metadata\": null}, {'\n",
              "              b'\"name\": \"Soil_Type8\", \"field_name\": \"Soil_Type8\", \"pandas_ty'\n",
              "              b'pe\": \"float64\", \"numpy_type\": \"float64\", \"metadata\": null}, '\n",
              "              b'{\"name\": \"Soil_Type9\", \"field_name\": \"Soil_Type9\", \"pandas_t'\n",
              "              b'ype\": \"float64\", \"numpy_type\": \"float64\", \"metadata\": null},'\n",
              "              b' {\"name\": \"Soil_Type10\", \"field_name\": \"Soil_Type10\", \"panda'\n",
              "              b's_type\": \"float64\", \"numpy_type\": \"float64\", \"metadata\": nul'\n",
              "              b'l}, {\"name\": \"Soil_Type11\", \"field_name\": \"Soil_Type11\", \"pa'\n",
              "              b'ndas_type\": \"float64\", \"numpy_type\": \"float64\", \"metadata\": '\n",
              "              b'null}, {\"name\": \"Soil_Type12\", \"field_name\": \"Soil_Type12\", '\n",
              "              b'\"pandas_type\": \"float64\", \"numpy_type\": \"float64\", \"metadata'\n",
              "              b'\": null}, {\"name\": \"Soil_Type13\", \"field_name\": \"Soil_Type13'\n",
              "              b'\", \"pandas_type\": \"float64\", \"numpy_type\": \"float64\", \"metad'\n",
              "              b'ata\": null}, {\"name\": \"Soil_Type14\", \"field_name\": \"Soil_Typ'\n",
              "              b'e14\", \"pandas_type\": \"float64\", \"numpy_type\": \"float64\", \"me'\n",
              "              b'tadata\": null}, {\"name\": \"Soil_Type15\", \"field_name\": \"Soil_'\n",
              "              b'Type15\", \"pandas_type\": \"float64\", \"numpy_type\": \"float64\", '\n",
              "              b'\"metadata\": null}, {\"name\": \"Soil_Type16\", \"field_name\": \"So'\n",
              "              b'il_Type16\", \"pandas_type\": \"float64\", \"numpy_type\": \"float64'\n",
              "              b'\", \"metadata\": null}, {\"name\": \"Soil_Type17\", \"field_name\": '\n",
              "              b'\"Soil_Type17\", \"pandas_type\": \"float64\", \"numpy_type\": \"floa'\n",
              "              b't64\", \"metadata\": null}, {\"name\": \"Soil_Type18\", \"field_name'\n",
              "              b'\": \"Soil_Type18\", \"pandas_type\": \"float64\", \"numpy_type\": \"f'\n",
              "              b'loat64\", \"metadata\": null}, {\"name\": \"Soil_Type19\", \"field_n'\n",
              "              b'ame\": \"Soil_Type19\", \"pandas_type\": \"float64\", \"numpy_type\":'\n",
              "              b' \"float64\", \"metadata\": null}, {\"name\": \"Soil_Type20\", \"fiel'\n",
              "              b'd_name\": \"Soil_Type20\", \"pandas_type\": \"float64\", \"numpy_typ'\n",
              "              b'e\": \"float64\", \"metadata\": null}, {\"name\": \"Soil_Type21\", \"f'\n",
              "              b'ield_name\": \"Soil_Type21\", \"pandas_type\": \"float64\", \"numpy_'\n",
              "              b'type\": \"float64\", \"metadata\": null}, {\"name\": \"Soil_Type22\",'\n",
              "              b' \"field_name\": \"Soil_Type22\", \"pandas_type\": \"float64\", \"num'\n",
              "              b'py_type\": \"float64\", \"metadata\": null}, {\"name\": \"Soil_Type2'\n",
              "              b'3\", \"field_name\": \"Soil_Type23\", \"pandas_type\": \"float64\", \"'\n",
              "              b'numpy_type\": \"float64\", \"metadata\": null}, {\"name\": \"Soil_Ty'\n",
              "              b'pe24\", \"field_name\": \"Soil_Type24\", \"pandas_type\": \"float64\"'\n",
              "              b', \"numpy_type\": \"float64\", \"metadata\": null}, {\"name\": \"Soil'\n",
              "              b'_Type25\", \"field_name\": \"Soil_Type25\", \"pandas_type\": \"float'\n",
              "              b'64\", \"numpy_type\": \"float64\", \"metadata\": null}, {\"name\": \"S'\n",
              "              b'oil_Type26\", \"field_name\": \"Soil_Type26\", \"pandas_type\": \"fl'\n",
              "              b'oat64\", \"numpy_type\": \"float64\", \"metadata\": null}, {\"name\":'\n",
              "              b' \"Soil_Type27\", \"field_name\": \"Soil_Type27\", \"pandas_type\": '\n",
              "              b'\"float64\", \"numpy_type\": \"float64\", \"metadata\": null}, {\"nam'\n",
              "              b'e\": \"Soil_Type28\", \"field_name\": \"Soil_Type28\", \"pandas_type'\n",
              "              b'\": \"float64\", \"numpy_type\": \"float64\", \"metadata\": null}, {\"'\n",
              "              b'name\": \"Soil_Type29\", \"field_name\": \"Soil_Type29\", \"pandas_t'\n",
              "              b'ype\": \"float64\", \"numpy_type\": \"float64\", \"metadata\": null},'\n",
              "              b' {\"name\": \"Soil_Type30\", \"field_name\": \"Soil_Type30\", \"panda'\n",
              "              b's_type\": \"float64\", \"numpy_type\": \"float64\", \"metadata\": nul'\n",
              "              b'l}, {\"name\": \"Soil_Type31\", \"field_name\": \"Soil_Type31\", \"pa'\n",
              "              b'ndas_type\": \"float64\", \"numpy_type\": \"float64\", \"metadata\": '\n",
              "              b'null}, {\"name\": \"Soil_Type32\", \"field_name\": \"Soil_Type32\", '\n",
              "              b'\"pandas_type\": \"float64\", \"numpy_type\": \"float64\", \"metadata'\n",
              "              b'\": null}, {\"name\": \"Soil_Type33\", \"field_name\": \"Soil_Type33'\n",
              "              b'\", \"pandas_type\": \"float64\", \"numpy_type\": \"float64\", \"metad'\n",
              "              b'ata\": null}, {\"name\": \"Soil_Type34\", \"field_name\": \"Soil_Typ'\n",
              "              b'e34\", \"pandas_type\": \"float64\", \"numpy_type\": \"float64\", \"me'\n",
              "              b'tadata\": null}, {\"name\": \"Soil_Type35\", \"field_name\": \"Soil_'\n",
              "              b'Type35\", \"pandas_type\": \"float64\", \"numpy_type\": \"float64\", '\n",
              "              b'\"metadata\": null}, {\"name\": \"Soil_Type36\", \"field_name\": \"So'\n",
              "              b'il_Type36\", \"pandas_type\": \"float64\", \"numpy_type\": \"float64'\n",
              "              b'\", \"metadata\": null}, {\"name\": \"Soil_Type37\", \"field_name\": '\n",
              "              b'\"Soil_Type37\", \"pandas_type\": \"float64\", \"numpy_type\": \"floa'\n",
              "              b't64\", \"metadata\": null}, {\"name\": \"Soil_Type38\", \"field_name'\n",
              "              b'\": \"Soil_Type38\", \"pandas_type\": \"float64\", \"numpy_type\": \"f'\n",
              "              b'loat64\", \"metadata\": null}, {\"name\": \"Soil_Type39\", \"field_n'\n",
              "              b'ame\": \"Soil_Type39\", \"pandas_type\": \"float64\", \"numpy_type\":'\n",
              "              b' \"float64\", \"metadata\": null}, {\"name\": \"Soil_Type40\", \"fiel'\n",
              "              b'd_name\": \"Soil_Type40\", \"pandas_type\": \"float64\", \"numpy_typ'\n",
              "              b'e\": \"float64\", \"metadata\": null}, {\"name\": \"target\", \"field_'\n",
              "              b'name\": \"target\", \"pandas_type\": \"int64\", \"numpy_type\": \"int6'\n",
              "              b'4\", \"metadata\": null}], \"creator\": {\"library\": \"pyarrow\", \"v'\n",
              "              b'ersion\": \"0.14.1\"}, \"pandas_version\": \"1.1.4\"}')])"
            ]
          },
          "metadata": {
            "tags": []
          },
          "execution_count": 31
        }
      ]
    },
    {
      "cell_type": "code",
      "metadata": {
        "id": "_tZ6LhMRRG-R"
      },
      "source": [
        "train_data = GpuDataReader(spark).format('parquet').load('covtype_train.parquet')\n",
        "test_data = GpuDataReader(spark).format('parquet').load('covtype_test.parquet')"
      ],
      "execution_count": 32,
      "outputs": []
    },
    {
      "cell_type": "code",
      "metadata": {
        "colab": {
          "base_uri": "https://localhost:8080/"
        },
        "id": "4H1YMjzUROUV",
        "outputId": "32705d98-f847-4156-981a-d60cb13b26f9"
      },
      "source": [
        "train_data.schema"
      ],
      "execution_count": 33,
      "outputs": [
        {
          "output_type": "execute_result",
          "data": {
            "text/plain": [
              "<bound method GpuDataset.schema of <ml.dmlc.xgboost4j.scala.spark.rapids.GpuDataset object at 0x7fb2231502e8>>"
            ]
          },
          "metadata": {
            "tags": []
          },
          "execution_count": 33
        }
      ]
    },
    {
      "cell_type": "code",
      "metadata": {
        "id": "jr-pya31RTam"
      },
      "source": [
        "pq_file=pq.read_table('covtype_train.parquet')#to see the column names"
      ],
      "execution_count": 34,
      "outputs": []
    },
    {
      "cell_type": "code",
      "metadata": {
        "colab": {
          "base_uri": "https://localhost:8080/"
        },
        "id": "bK8jjNUXRVJt",
        "outputId": "152453a8-02cb-404c-81a3-44d08bf6a8a4"
      },
      "source": [
        "pq_file.column_names"
      ],
      "execution_count": 35,
      "outputs": [
        {
          "output_type": "execute_result",
          "data": {
            "text/plain": [
              "['Elevation',\n",
              " 'Aspect',\n",
              " 'Slope',\n",
              " 'Horizontal_Distance_To_Hydrology',\n",
              " 'Vertical_Distance_To_Hydrology',\n",
              " 'Horizontal_Distance_To_Roadways',\n",
              " 'Hillshade_9am',\n",
              " 'Hillshade_Noon',\n",
              " 'Hillshade_3pm',\n",
              " 'Horizontal_Distance_To_Fire_Points',\n",
              " 'Wilderness_Area1',\n",
              " 'Wilderness_Area2',\n",
              " 'Wilderness_Area3',\n",
              " 'Wilderness_Area4',\n",
              " 'Soil_Type1',\n",
              " 'Soil_Type2',\n",
              " 'Soil_Type3',\n",
              " 'Soil_Type4',\n",
              " 'Soil_Type5',\n",
              " 'Soil_Type6',\n",
              " 'Soil_Type7',\n",
              " 'Soil_Type8',\n",
              " 'Soil_Type9',\n",
              " 'Soil_Type10',\n",
              " 'Soil_Type11',\n",
              " 'Soil_Type12',\n",
              " 'Soil_Type13',\n",
              " 'Soil_Type14',\n",
              " 'Soil_Type15',\n",
              " 'Soil_Type16',\n",
              " 'Soil_Type17',\n",
              " 'Soil_Type18',\n",
              " 'Soil_Type19',\n",
              " 'Soil_Type20',\n",
              " 'Soil_Type21',\n",
              " 'Soil_Type22',\n",
              " 'Soil_Type23',\n",
              " 'Soil_Type24',\n",
              " 'Soil_Type25',\n",
              " 'Soil_Type26',\n",
              " 'Soil_Type27',\n",
              " 'Soil_Type28',\n",
              " 'Soil_Type29',\n",
              " 'Soil_Type30',\n",
              " 'Soil_Type31',\n",
              " 'Soil_Type32',\n",
              " 'Soil_Type33',\n",
              " 'Soil_Type34',\n",
              " 'Soil_Type35',\n",
              " 'Soil_Type36',\n",
              " 'Soil_Type37',\n",
              " 'Soil_Type38',\n",
              " 'Soil_Type39',\n",
              " 'Soil_Type40',\n",
              " 'target']"
            ]
          },
          "metadata": {
            "tags": []
          },
          "execution_count": 35
        }
      ]
    },
    {
      "cell_type": "code",
      "metadata": {
        "id": "wYt3AnH_RWvY"
      },
      "source": [
        "label=\"target\"\n",
        "features = [ x for x in pq_file.column_names if x != label ]"
      ],
      "execution_count": 36,
      "outputs": []
    },
    {
      "cell_type": "code",
      "metadata": {
        "colab": {
          "base_uri": "https://localhost:8080/"
        },
        "id": "ZYVGS5ReRZwj",
        "outputId": "2d1050b8-8209-4bb1-d88e-f7794347aa47"
      },
      "source": [
        "features"
      ],
      "execution_count": 37,
      "outputs": [
        {
          "output_type": "execute_result",
          "data": {
            "text/plain": [
              "['Elevation',\n",
              " 'Aspect',\n",
              " 'Slope',\n",
              " 'Horizontal_Distance_To_Hydrology',\n",
              " 'Vertical_Distance_To_Hydrology',\n",
              " 'Horizontal_Distance_To_Roadways',\n",
              " 'Hillshade_9am',\n",
              " 'Hillshade_Noon',\n",
              " 'Hillshade_3pm',\n",
              " 'Horizontal_Distance_To_Fire_Points',\n",
              " 'Wilderness_Area1',\n",
              " 'Wilderness_Area2',\n",
              " 'Wilderness_Area3',\n",
              " 'Wilderness_Area4',\n",
              " 'Soil_Type1',\n",
              " 'Soil_Type2',\n",
              " 'Soil_Type3',\n",
              " 'Soil_Type4',\n",
              " 'Soil_Type5',\n",
              " 'Soil_Type6',\n",
              " 'Soil_Type7',\n",
              " 'Soil_Type8',\n",
              " 'Soil_Type9',\n",
              " 'Soil_Type10',\n",
              " 'Soil_Type11',\n",
              " 'Soil_Type12',\n",
              " 'Soil_Type13',\n",
              " 'Soil_Type14',\n",
              " 'Soil_Type15',\n",
              " 'Soil_Type16',\n",
              " 'Soil_Type17',\n",
              " 'Soil_Type18',\n",
              " 'Soil_Type19',\n",
              " 'Soil_Type20',\n",
              " 'Soil_Type21',\n",
              " 'Soil_Type22',\n",
              " 'Soil_Type23',\n",
              " 'Soil_Type24',\n",
              " 'Soil_Type25',\n",
              " 'Soil_Type26',\n",
              " 'Soil_Type27',\n",
              " 'Soil_Type28',\n",
              " 'Soil_Type29',\n",
              " 'Soil_Type30',\n",
              " 'Soil_Type31',\n",
              " 'Soil_Type32',\n",
              " 'Soil_Type33',\n",
              " 'Soil_Type34',\n",
              " 'Soil_Type35',\n",
              " 'Soil_Type36',\n",
              " 'Soil_Type37',\n",
              " 'Soil_Type38',\n",
              " 'Soil_Type39',\n",
              " 'Soil_Type40']"
            ]
          },
          "metadata": {
            "tags": []
          },
          "execution_count": 37
        }
      ]
    },
    {
      "cell_type": "code",
      "metadata": {
        "id": "SNJYN4MDRb1E"
      },
      "source": [
        "import time\n",
        "params = { \n",
        "    'eta': 0.1,\n",
        "    'gamma': 0.1,\n",
        "    'missing': 0.0,\n",
        "    'treeMethod': 'gpu_hist',\n",
        "    'maxDepth': 8, \n",
        "    'growPolicy': 'depthwise',\n",
        "    'lambda_': 1.0,\n",
        "    'subsample': 1.0,\n",
        "    'numRound': 1000,\n",
        "    'numWorkers': 1,\n",
        "    'verbosity': 1\n",
        "}"
      ],
      "execution_count": 38,
      "outputs": []
    },
    {
      "cell_type": "code",
      "metadata": {
        "id": "mEEXZzo9RnUh"
      },
      "source": [
        "classifier = XGBoostClassifier(**params).setLabelCol(label).setFeaturesCols(features)"
      ],
      "execution_count": 39,
      "outputs": []
    },
    {
      "cell_type": "code",
      "metadata": {
        "colab": {
          "base_uri": "https://localhost:8080/"
        },
        "id": "nSHvgZXURqNW",
        "outputId": "2da3053d-63c1-4375-b6d3-c059388161f0"
      },
      "source": [
        "start_time = time.time()\n",
        "\n",
        "model=classifier.fit(train_data)\n",
        "\n",
        "print(\"GPU Training Time: %s seconds\" % (str(time.time() - start_time)))"
      ],
      "execution_count": 40,
      "outputs": [
        {
          "output_type": "stream",
          "text": [
            "GPU Training Time: 35.45194220542908 seconds\n"
          ],
          "name": "stdout"
        }
      ]
    },
    {
      "cell_type": "code",
      "metadata": {
        "colab": {
          "base_uri": "https://localhost:8080/"
        },
        "id": "M6wmfM64R4OY",
        "outputId": "76446854-8bbc-42c1-e55d-78df1760d325"
      },
      "source": [
        "!nvidia-smi"
      ],
      "execution_count": 41,
      "outputs": [
        {
          "output_type": "stream",
          "text": [
            "Wed Nov 18 14:45:36 2020       \n",
            "+-----------------------------------------------------------------------------+\n",
            "| NVIDIA-SMI 455.38       Driver Version: 418.67       CUDA Version: 10.1     |\n",
            "|-------------------------------+----------------------+----------------------+\n",
            "| GPU  Name        Persistence-M| Bus-Id        Disp.A | Volatile Uncorr. ECC |\n",
            "| Fan  Temp  Perf  Pwr:Usage/Cap|         Memory-Usage | GPU-Util  Compute M. |\n",
            "|                               |                      |               MIG M. |\n",
            "|===============================+======================+======================|\n",
            "|   0  Tesla P4            Off  | 00000000:00:04.0 Off |                    0 |\n",
            "| N/A   45C    P0    24W /  75W |   1003MiB /  7611MiB |      0%      Default |\n",
            "|                               |                      |                 ERR! |\n",
            "+-------------------------------+----------------------+----------------------+\n",
            "                                                                               \n",
            "+-----------------------------------------------------------------------------+\n",
            "| Processes:                                                                  |\n",
            "|  GPU   GI   CI        PID   Type   Process name                  GPU Memory |\n",
            "|        ID   ID                                                   Usage      |\n",
            "|=============================================================================|\n",
            "|  No running processes found                                                 |\n",
            "+-----------------------------------------------------------------------------+\n"
          ],
          "name": "stdout"
        }
      ]
    },
    {
      "cell_type": "code",
      "metadata": {
        "id": "oE4DwY2YR7Ql"
      },
      "source": [
        "model.write().overwrite().save('/content/model/')"
      ],
      "execution_count": 42,
      "outputs": []
    },
    {
      "cell_type": "code",
      "metadata": {
        "colab": {
          "base_uri": "https://localhost:8080/"
        },
        "id": "IKi2izBhR-WT",
        "outputId": "e5071137-77bf-47dc-a312-05bf9e2b22fa"
      },
      "source": [
        "!ls"
      ],
      "execution_count": 43,
      "outputs": [
        {
          "output_type": "stream",
          "text": [
            "covtype_test.parquet\t   spark-2.4.5-bin-hadoop2.7.tgz\n",
            "covtype_train.parquet\t   spark-3.0.0-bin-hadoop3.2\n",
            "cudf-0.9.2-cuda10-1.jar    spark-3.0.0-bin-hadoop3.2.tgz\n",
            "cudf-0.9.2-cuda10-1.jar.1  xgboost4j_2.x-1.0.0-Beta5.jar\n",
            "model\t\t\t   xgboost4j_2.x-1.0.0-Beta5.jar.1\n",
            "sample_data\t\t   xgboost4j-spark_2.x-1.0.0-Beta5.jar\n",
            "spark-2.4.5-bin-hadoop2.7  xgboost4j-spark_2.x-1.0.0-Beta5.jar.1\n"
          ],
          "name": "stdout"
        }
      ]
    },
    {
      "cell_type": "code",
      "metadata": {
        "id": "1bYpJ1YuSA6i"
      },
      "source": [
        "loaded_model = XGBoostClassificationModel().load('/content/model/')"
      ],
      "execution_count": 44,
      "outputs": []
    },
    {
      "cell_type": "code",
      "metadata": {
        "id": "4bqKfMy9SDDg"
      },
      "source": [
        "result=loaded_model.transform(test_data)"
      ],
      "execution_count": 45,
      "outputs": []
    },
    {
      "cell_type": "code",
      "metadata": {
        "colab": {
          "base_uri": "https://localhost:8080/"
        },
        "id": "ceUH7s1OSE6s",
        "outputId": "5391038a-4984-487c-e0bf-8c05bb4058bc"
      },
      "source": [
        "result.show()"
      ],
      "execution_count": 46,
      "outputs": [
        {
          "output_type": "stream",
          "text": [
            "+---------+------+-----+--------------------------------+------------------------------+-------------------------------+-------------+--------------+-------------+----------------------------------+----------------+----------------+----------------+----------------+----------+----------+----------+----------+----------+----------+----------+----------+----------+-----------+-----------+-----------+-----------+-----------+-----------+-----------+-----------+-----------+-----------+-----------+-----------+-----------+-----------+-----------+-----------+-----------+-----------+-----------+-----------+-----------+-----------+-----------+-----------+-----------+-----------+-----------+-----------+-----------+-----------+-----------+------+--------------------+--------------------+----------+\n",
            "|Elevation|Aspect|Slope|Horizontal_Distance_To_Hydrology|Vertical_Distance_To_Hydrology|Horizontal_Distance_To_Roadways|Hillshade_9am|Hillshade_Noon|Hillshade_3pm|Horizontal_Distance_To_Fire_Points|Wilderness_Area1|Wilderness_Area2|Wilderness_Area3|Wilderness_Area4|Soil_Type1|Soil_Type2|Soil_Type3|Soil_Type4|Soil_Type5|Soil_Type6|Soil_Type7|Soil_Type8|Soil_Type9|Soil_Type10|Soil_Type11|Soil_Type12|Soil_Type13|Soil_Type14|Soil_Type15|Soil_Type16|Soil_Type17|Soil_Type18|Soil_Type19|Soil_Type20|Soil_Type21|Soil_Type22|Soil_Type23|Soil_Type24|Soil_Type25|Soil_Type26|Soil_Type27|Soil_Type28|Soil_Type29|Soil_Type30|Soil_Type31|Soil_Type32|Soil_Type33|Soil_Type34|Soil_Type35|Soil_Type36|Soil_Type37|Soil_Type38|Soil_Type39|Soil_Type40|target|       rawPrediction|         probability|prediction|\n",
            "+---------+------+-----+--------------------------------+------------------------------+-------------------------------+-------------+--------------+-------------+----------------------------------+----------------+----------------+----------------+----------------+----------+----------+----------+----------+----------+----------+----------+----------+----------+-----------+-----------+-----------+-----------+-----------+-----------+-----------+-----------+-----------+-----------+-----------+-----------+-----------+-----------+-----------+-----------+-----------+-----------+-----------+-----------+-----------+-----------+-----------+-----------+-----------+-----------+-----------+-----------+-----------+-----------+-----------+------+--------------------+--------------------+----------+\n",
            "|   2804.0| 139.0|  9.0|                           268.0|                          65.0|                         3180.0|        234.0|         238.0|        135.0|                            6121.0|             1.0|             0.0|             0.0|             0.0|       0.0|       0.0|       0.0|       0.0|       0.0|       0.0|       0.0|       0.0|       0.0|        0.0|        0.0|        1.0|        0.0|        0.0|        0.0|        0.0|        0.0|        0.0|        0.0|        0.0|        0.0|        0.0|        0.0|        0.0|        0.0|        0.0|        0.0|        0.0|        0.0|        0.0|        0.0|        0.0|        0.0|        0.0|        0.0|        0.0|        0.0|        0.0|        0.0|        0.0|   1.0|[-0.7483979463577...|[0.25160205364227...|       1.0|\n",
            "|   2595.0|  45.0|  2.0|                           153.0|                          -1.0|                          391.0|        220.0|         234.0|        150.0|                            6172.0|             1.0|             0.0|             0.0|             0.0|       0.0|       0.0|       0.0|       0.0|       0.0|       0.0|       0.0|       0.0|       0.0|        0.0|        0.0|        0.0|        0.0|        0.0|        0.0|        0.0|        0.0|        0.0|        0.0|        0.0|        0.0|        0.0|        0.0|        0.0|        0.0|        0.0|        0.0|        0.0|        1.0|        0.0|        0.0|        0.0|        0.0|        0.0|        0.0|        0.0|        0.0|        0.0|        0.0|        0.0|   4.0|[-3.6109395027160...|[-2.6109395027160...|       1.0|\n",
            "|   2606.0|  45.0|  7.0|                           270.0|                           5.0|                          633.0|        222.0|         225.0|        138.0|                            6256.0|             1.0|             0.0|             0.0|             0.0|       0.0|       0.0|       0.0|       0.0|       0.0|       0.0|       0.0|       0.0|       0.0|        0.0|        0.0|        0.0|        0.0|        0.0|        0.0|        0.0|        0.0|        0.0|        0.0|        0.0|        0.0|        0.0|        0.0|        0.0|        0.0|        0.0|        0.0|        0.0|        1.0|        0.0|        0.0|        0.0|        0.0|        0.0|        0.0|        0.0|        0.0|        0.0|        0.0|        0.0|   4.0|[-3.9071249961853...|[-2.9071249961853...|       1.0|\n",
            "|   2612.0| 201.0|  4.0|                           180.0|                          51.0|                          735.0|        218.0|         243.0|        161.0|                            6222.0|             1.0|             0.0|             0.0|             0.0|       0.0|       0.0|       0.0|       0.0|       0.0|       0.0|       0.0|       0.0|       0.0|        0.0|        0.0|        0.0|        0.0|        0.0|        0.0|        0.0|        0.0|        1.0|        0.0|        0.0|        0.0|        0.0|        0.0|        0.0|        0.0|        0.0|        0.0|        0.0|        0.0|        0.0|        0.0|        0.0|        0.0|        0.0|        0.0|        0.0|        0.0|        0.0|        0.0|        0.0|   4.0|[-2.7856688499450...|[-1.7856688499450...|       1.0|\n",
            "|   2609.0| 214.0|  7.0|                           150.0|                          46.0|                          771.0|        213.0|         247.0|        170.0|                            6211.0|             1.0|             0.0|             0.0|             0.0|       0.0|       0.0|       0.0|       0.0|       0.0|       0.0|       0.0|       0.0|       0.0|        0.0|        0.0|        0.0|        0.0|        0.0|        0.0|        0.0|        0.0|        1.0|        0.0|        0.0|        0.0|        0.0|        0.0|        0.0|        0.0|        0.0|        0.0|        0.0|        0.0|        0.0|        0.0|        0.0|        0.0|        0.0|        0.0|        0.0|        0.0|        0.0|        0.0|        0.0|   4.0|[-3.4598040580749...|[-2.4598040580749...|       1.0|\n",
            "|   2495.0|  51.0|  7.0|                            42.0|                           2.0|                          752.0|        224.0|         225.0|        137.0|                            5576.0|             1.0|             0.0|             0.0|             0.0|       0.0|       0.0|       0.0|       0.0|       0.0|       0.0|       0.0|       0.0|       0.0|        0.0|        0.0|        0.0|        0.0|        0.0|        0.0|        1.0|        0.0|        0.0|        0.0|        0.0|        0.0|        0.0|        0.0|        0.0|        0.0|        0.0|        0.0|        0.0|        0.0|        0.0|        0.0|        0.0|        0.0|        0.0|        0.0|        0.0|        0.0|        0.0|        0.0|        0.0|   4.0|[-2.3526172637939...|[-1.3526172637939...|       1.0|\n",
            "|   2610.0| 259.0|  1.0|                           120.0|                          -1.0|                          607.0|        216.0|         239.0|        161.0|                            6096.0|             1.0|             0.0|             0.0|             0.0|       0.0|       0.0|       0.0|       0.0|       0.0|       0.0|       0.0|       0.0|       0.0|        0.0|        0.0|        0.0|        0.0|        0.0|        0.0|        0.0|        0.0|        0.0|        0.0|        0.0|        0.0|        0.0|        0.0|        0.0|        0.0|        0.0|        0.0|        0.0|        1.0|        0.0|        0.0|        0.0|        0.0|        0.0|        0.0|        0.0|        0.0|        0.0|        0.0|        0.0|   4.0|[-1.3075121641159...|[-0.3075121641159...|       1.0|\n",
            "|   2503.0|  38.0|  5.0|                            85.0|                          10.0|                          741.0|        220.0|         228.0|        144.0|                            5555.0|             1.0|             0.0|             0.0|             0.0|       0.0|       0.0|       0.0|       0.0|       0.0|       0.0|       0.0|       0.0|       0.0|        0.0|        0.0|        0.0|        0.0|        0.0|        0.0|        0.0|        0.0|        1.0|        0.0|        0.0|        0.0|        0.0|        0.0|        0.0|        0.0|        0.0|        0.0|        0.0|        0.0|        0.0|        0.0|        0.0|        0.0|        0.0|        0.0|        0.0|        0.0|        0.0|        0.0|        0.0|   4.0|[-2.7987403869628...|[-1.7987403869628...|       1.0|\n",
            "|   2880.0| 209.0| 17.0|                           216.0|                          30.0|                         4986.0|        206.0|         253.0|        179.0|                            4323.0|             1.0|             0.0|             0.0|             0.0|       0.0|       0.0|       0.0|       0.0|       0.0|       0.0|       0.0|       0.0|       0.0|        0.0|        0.0|        0.0|        0.0|        0.0|        0.0|        0.0|        0.0|        0.0|        0.0|        0.0|        0.0|        0.0|        0.0|        0.0|        0.0|        0.0|        0.0|        0.0|        0.0|        1.0|        0.0|        0.0|        0.0|        0.0|        0.0|        0.0|        0.0|        0.0|        0.0|        0.0|   1.0|[-1.0144829750061...|[-0.0144829750061...|       1.0|\n",
            "|   2768.0| 114.0| 23.0|                           192.0|                          82.0|                         3339.0|        252.0|         209.0|         71.0|                            5972.0|             1.0|             0.0|             0.0|             0.0|       0.0|       0.0|       0.0|       0.0|       0.0|       0.0|       0.0|       0.0|       0.0|        0.0|        0.0|        0.0|        0.0|        0.0|        0.0|        0.0|        0.0|        0.0|        0.0|        0.0|        0.0|        0.0|        0.0|        0.0|        0.0|        0.0|        0.0|        0.0|        0.0|        1.0|        0.0|        0.0|        0.0|        0.0|        0.0|        0.0|        0.0|        0.0|        0.0|        0.0|   4.0|[-2.5946393013000...|[-1.5946393013000...|       1.0|\n",
            "|   2507.0|  22.0|  9.0|                           120.0|                          14.0|                          732.0|        215.0|         221.0|        143.0|                            5534.0|             1.0|             0.0|             0.0|             0.0|       0.0|       0.0|       0.0|       0.0|       0.0|       0.0|       0.0|       0.0|       0.0|        0.0|        0.0|        0.0|        0.0|        0.0|        0.0|        0.0|        0.0|        1.0|        0.0|        0.0|        0.0|        0.0|        0.0|        0.0|        0.0|        0.0|        0.0|        0.0|        0.0|        0.0|        0.0|        0.0|        0.0|        0.0|        0.0|        0.0|        0.0|        0.0|        0.0|        0.0|   4.0|[-3.2143170833587...|[-2.2143170833587...|       1.0|\n",
            "|   2492.0| 135.0|  6.0|                             0.0|                           0.0|                          860.0|        229.0|         237.0|        142.0|                            5494.0|             1.0|             0.0|             0.0|             0.0|       0.0|       0.0|       0.0|       0.0|       0.0|       0.0|       0.0|       0.0|       0.0|        0.0|        0.0|        0.0|        0.0|        0.0|        0.0|        0.0|        0.0|        1.0|        0.0|        0.0|        0.0|        0.0|        0.0|        0.0|        0.0|        0.0|        0.0|        0.0|        0.0|        0.0|        0.0|        0.0|        0.0|        0.0|        0.0|        0.0|        0.0|        0.0|        0.0|        0.0|   4.0|[-2.6894810199737...|[-1.6894810199737...|       1.0|\n",
            "|   2678.0| 128.0|  5.0|                            95.0|                          23.0|                         1660.0|        229.0|         236.0|        141.0|                            6546.0|             1.0|             0.0|             0.0|             0.0|       0.0|       0.0|       0.0|       0.0|       0.0|       0.0|       0.0|       0.0|       0.0|        0.0|        0.0|        1.0|        0.0|        0.0|        0.0|        0.0|        0.0|        0.0|        0.0|        0.0|        0.0|        0.0|        0.0|        0.0|        0.0|        0.0|        0.0|        0.0|        0.0|        0.0|        0.0|        0.0|        0.0|        0.0|        0.0|        0.0|        0.0|        0.0|        0.0|        0.0|   1.0|[-0.8281585574150...|[0.17184144258499...|       1.0|\n",
            "|   2489.0| 100.0|  7.0|                            85.0|                          13.0|                          810.0|        232.0|         231.0|        131.0|                            5334.0|             1.0|             0.0|             0.0|             0.0|       0.0|       0.0|       0.0|       0.0|       0.0|       0.0|       0.0|       0.0|       0.0|        0.0|        0.0|        0.0|        0.0|        0.0|        0.0|        0.0|        0.0|        1.0|        0.0|        0.0|        0.0|        0.0|        0.0|        0.0|        0.0|        0.0|        0.0|        0.0|        0.0|        0.0|        0.0|        0.0|        0.0|        0.0|        0.0|        0.0|        0.0|        0.0|        0.0|        0.0|   4.0|[-2.7047965526580...|[-1.7047965526580...|       1.0|\n",
            "|   2722.0| 315.0| 24.0|                            30.0|                          19.0|                         3216.0|        148.0|         212.0|        200.0|                            6132.0|             1.0|             0.0|             0.0|             0.0|       0.0|       0.0|       0.0|       0.0|       0.0|       0.0|       0.0|       0.0|       0.0|        0.0|        0.0|        0.0|        0.0|        0.0|        0.0|        1.0|        0.0|        0.0|        0.0|        0.0|        0.0|        0.0|        0.0|        0.0|        0.0|        0.0|        0.0|        0.0|        0.0|        0.0|        0.0|        0.0|        0.0|        0.0|        0.0|        0.0|        0.0|        0.0|        0.0|        0.0|   0.0|[-0.3309878408908...|[0.66901215910911...|       0.0|\n",
            "|   2705.0|  90.0|  8.0|                           134.0|                          22.0|                         2023.0|        232.0|         228.0|        129.0|                            6615.0|             1.0|             0.0|             0.0|             0.0|       0.0|       0.0|       0.0|       0.0|       0.0|       0.0|       0.0|       0.0|       0.0|        0.0|        0.0|        1.0|        0.0|        0.0|        0.0|        0.0|        0.0|        0.0|        0.0|        0.0|        0.0|        0.0|        0.0|        0.0|        0.0|        0.0|        0.0|        0.0|        0.0|        0.0|        0.0|        0.0|        0.0|        0.0|        0.0|        0.0|        0.0|        0.0|        0.0|        0.0|   1.0|[-0.6333317756652...|[0.36666822433471...|       1.0|\n",
            "|   2509.0|  59.0|  7.0|                           134.0|                          10.0|                          900.0|        226.0|         226.0|        134.0|                            5184.0|             1.0|             0.0|             0.0|             0.0|       0.0|       0.0|       0.0|       0.0|       0.0|       0.0|       0.0|       0.0|       0.0|        0.0|        0.0|        0.0|        0.0|        0.0|        0.0|        0.0|        0.0|        1.0|        0.0|        0.0|        0.0|        0.0|        0.0|        0.0|        0.0|        0.0|        0.0|        0.0|        0.0|        0.0|        0.0|        0.0|        0.0|        0.0|        0.0|        0.0|        0.0|        0.0|        0.0|        0.0|   4.0|[-1.9129657745361...|[-0.9129657745361...|       1.0|\n",
            "|   2791.0|  63.0| 10.0|                           418.0|                          48.0|                         2942.0|        229.0|         221.0|        124.0|                            6606.0|             1.0|             0.0|             0.0|             0.0|       0.0|       0.0|       0.0|       0.0|       0.0|       0.0|       0.0|       0.0|       0.0|        0.0|        0.0|        1.0|        0.0|        0.0|        0.0|        0.0|        0.0|        0.0|        0.0|        0.0|        0.0|        0.0|        0.0|        0.0|        0.0|        0.0|        0.0|        0.0|        0.0|        0.0|        0.0|        0.0|        0.0|        0.0|        0.0|        0.0|        0.0|        0.0|        0.0|        0.0|   1.0|[-0.8340890407562...|[0.16591095924377...|       1.0|\n",
            "|   2998.0|  45.0|  8.0|                           351.0|                          16.0|                         5842.0|        223.0|         222.0|        134.0|                            3721.0|             1.0|             0.0|             0.0|             0.0|       0.0|       0.0|       0.0|       0.0|       0.0|       0.0|       0.0|       0.0|       0.0|        0.0|        0.0|        0.0|        0.0|        0.0|        0.0|        0.0|        0.0|        0.0|        0.0|        0.0|        0.0|        0.0|        0.0|        0.0|        0.0|        0.0|        0.0|        0.0|        1.0|        0.0|        0.0|        0.0|        0.0|        0.0|        0.0|        0.0|        0.0|        0.0|        0.0|        0.0|   1.0|[-0.7601912021636...|[0.23980879783630...|       1.0|\n",
            "|   3067.0|  32.0|  4.0|                            30.0|                          -2.0|                         6679.0|        219.0|         230.0|        147.0|                            2947.0|             1.0|             0.0|             0.0|             0.0|       0.0|       0.0|       0.0|       0.0|       0.0|       0.0|       0.0|       0.0|       0.0|        0.0|        0.0|        0.0|        0.0|        0.0|        0.0|        0.0|        0.0|        0.0|        0.0|        1.0|        0.0|        0.0|        0.0|        0.0|        0.0|        0.0|        0.0|        0.0|        0.0|        0.0|        0.0|        0.0|        0.0|        0.0|        0.0|        0.0|        0.0|        0.0|        0.0|        0.0|   1.0|[-1.0316703319549...|[-0.0316703319549...|       1.0|\n",
            "+---------+------+-----+--------------------------------+------------------------------+-------------------------------+-------------+--------------+-------------+----------------------------------+----------------+----------------+----------------+----------------+----------+----------+----------+----------+----------+----------+----------+----------+----------+-----------+-----------+-----------+-----------+-----------+-----------+-----------+-----------+-----------+-----------+-----------+-----------+-----------+-----------+-----------+-----------+-----------+-----------+-----------+-----------+-----------+-----------+-----------+-----------+-----------+-----------+-----------+-----------+-----------+-----------+-----------+------+--------------------+--------------------+----------+\n",
            "only showing top 20 rows\n",
            "\n"
          ],
          "name": "stdout"
        }
      ]
    },
    {
      "cell_type": "code",
      "metadata": {
        "colab": {
          "base_uri": "https://localhost:8080/"
        },
        "id": "Gz49o6k5SKv-",
        "outputId": "8d614414-170d-4e26-bcd3-3744e325e5b7"
      },
      "source": [
        "MulticlassClassificationEvaluator().setLabelCol(label).evaluate(result)"
      ],
      "execution_count": 47,
      "outputs": [
        {
          "output_type": "execute_result",
          "data": {
            "text/plain": [
              "0.7143958406010039"
            ]
          },
          "metadata": {
            "tags": []
          },
          "execution_count": 47
        }
      ]
    }
  ]
}