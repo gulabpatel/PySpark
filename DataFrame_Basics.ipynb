{
  "nbformat": 4,
  "nbformat_minor": 0,
  "metadata": {
    "anaconda-cloud": {},
    "kernelspec": {
      "display_name": "Python 3",
      "language": "python",
      "name": "python3"
    },
    "language_info": {
      "codemirror_mode": {
        "name": "ipython",
        "version": 3
      },
      "file_extension": ".py",
      "mimetype": "text/x-python",
      "name": "python",
      "nbconvert_exporter": "python",
      "pygments_lexer": "ipython3",
      "version": "3.6.3"
    },
    "nbpresent": {
      "slides": {},
      "themes": {
        "default": "0535adbc-b74f-46cc-9cd6-4eabe2477c8e",
        "theme": {
          "0535adbc-b74f-46cc-9cd6-4eabe2477c8e": {
            "backgrounds": {
              "backgroundColor": {
                "background-color": "backgroundColor",
                "id": "backgroundColor"
              }
            },
            "id": "0535adbc-b74f-46cc-9cd6-4eabe2477c8e",
            "palette": {
              "backgroundColor": {
                "id": "backgroundColor",
                "rgb": [
                  43,
                  43,
                  43
                ]
              },
              "headingColor": {
                "id": "headingColor",
                "rgb": [
                  238,
                  238,
                  238
                ]
              },
              "linkColor": {
                "id": "linkColor",
                "rgb": [
                  19,
                  218,
                  236
                ]
              },
              "mainColor": {
                "id": "mainColor",
                "rgb": [
                  238,
                  238,
                  238
                ]
              }
            },
            "rules": {
              "a": {
                "color": "linkColor"
              },
              "h1": {
                "color": "headingColor",
                "font-family": "Oswald",
                "font-size": 7
              },
              "h2": {
                "color": "headingColor",
                "font-family": "Oswald",
                "font-size": 5
              },
              "h3": {
                "color": "headingColor",
                "font-family": "Oswald",
                "font-size": 3.75
              },
              "h4": {
                "color": "headingColor",
                "font-family": "Oswald",
                "font-size": 3
              },
              "h5": {
                "color": "headingColor",
                "font-family": "Oswald"
              },
              "h6": {
                "color": "headingColor",
                "font-family": "Oswald"
              },
              "h7": {
                "color": "headingColor",
                "font-family": "Oswald"
              },
              "li": {
                "color": "mainColor",
                "font-family": "Lato",
                "font-size": 5
              },
              "p": {
                "color": "mainColor",
                "font-family": "Lato",
                "font-size": 5
              }
            },
            "text-base": {
              "color": "mainColor",
              "font-family": "Lato",
              "font-size": 5
            }
          },
          "cc59980f-cb69-400a-b63a-1fb85ca73c8a": {
            "backgrounds": {
              "dc7afa04-bf90-40b1-82a5-726e3cff5267": {
                "background-color": "31af15d2-7e15-44c5-ab5e-e04b16a89eff",
                "id": "dc7afa04-bf90-40b1-82a5-726e3cff5267"
              }
            },
            "id": "cc59980f-cb69-400a-b63a-1fb85ca73c8a",
            "palette": {
              "19cc588f-0593-49c9-9f4b-e4d7cc113b1c": {
                "id": "19cc588f-0593-49c9-9f4b-e4d7cc113b1c",
                "rgb": [
                  252,
                  252,
                  252
                ]
              },
              "31af15d2-7e15-44c5-ab5e-e04b16a89eff": {
                "id": "31af15d2-7e15-44c5-ab5e-e04b16a89eff",
                "rgb": [
                  68,
                  68,
                  68
                ]
              },
              "50f92c45-a630-455b-aec3-788680ec7410": {
                "id": "50f92c45-a630-455b-aec3-788680ec7410",
                "rgb": [
                  197,
                  226,
                  245
                ]
              },
              "c5cc3653-2ee1-402a-aba2-7caae1da4f6c": {
                "id": "c5cc3653-2ee1-402a-aba2-7caae1da4f6c",
                "rgb": [
                  43,
                  126,
                  184
                ]
              },
              "efa7f048-9acb-414c-8b04-a26811511a21": {
                "id": "efa7f048-9acb-414c-8b04-a26811511a21",
                "rgb": [
                  25.118061674008803,
                  73.60176211453744,
                  107.4819383259912
                ]
              }
            },
            "rules": {
              "a": {
                "color": "19cc588f-0593-49c9-9f4b-e4d7cc113b1c"
              },
              "blockquote": {
                "color": "50f92c45-a630-455b-aec3-788680ec7410",
                "font-size": 3
              },
              "code": {
                "font-family": "Anonymous Pro"
              },
              "h1": {
                "color": "19cc588f-0593-49c9-9f4b-e4d7cc113b1c",
                "font-family": "Merriweather",
                "font-size": 8
              },
              "h2": {
                "color": "19cc588f-0593-49c9-9f4b-e4d7cc113b1c",
                "font-family": "Merriweather",
                "font-size": 6
              },
              "h3": {
                "color": "50f92c45-a630-455b-aec3-788680ec7410",
                "font-family": "Lato",
                "font-size": 5.5
              },
              "h4": {
                "color": "c5cc3653-2ee1-402a-aba2-7caae1da4f6c",
                "font-family": "Lato",
                "font-size": 5
              },
              "h5": {
                "font-family": "Lato"
              },
              "h6": {
                "font-family": "Lato"
              },
              "h7": {
                "font-family": "Lato"
              },
              "li": {
                "color": "50f92c45-a630-455b-aec3-788680ec7410",
                "font-size": 3.25
              },
              "pre": {
                "font-family": "Anonymous Pro",
                "font-size": 4
              }
            },
            "text-base": {
              "color": "19cc588f-0593-49c9-9f4b-e4d7cc113b1c",
              "font-family": "Lato",
              "font-size": 4
            }
          }
        }
      }
    },
    "colab": {
      "name": "DataFrame_Basics.ipynb",
      "provenance": [],
      "include_colab_link": true
    }
  },
  "cells": [
    {
      "cell_type": "markdown",
      "metadata": {
        "id": "view-in-github",
        "colab_type": "text"
      },
      "source": [
        "<a href=\"https://colab.research.google.com/github/gulabpatel/PySpark/blob/main/DataFrame_Basics.ipynb\" target=\"_parent\"><img src=\"https://colab.research.google.com/assets/colab-badge.svg\" alt=\"Open In Colab\"/></a>"
      ]
    },
    {
      "cell_type": "markdown",
      "metadata": {
        "id": "GoHZQtEDg207"
      },
      "source": [
        "# Spark DataFrame Basics\n",
        "\n",
        "Spark DataFrames are the workhouse and main way of working with Spark and Python post Spark 2.0. DataFrames act as powerful versions of tables, with rows and columns, easily handling large datasets. The shift to DataFrames provides many advantages:\n",
        "* A much simpler syntax\n",
        "* Ability to use SQL directly in the dataframe\n",
        "* Operations are automatically distributed across RDDs\n",
        "    \n",
        "If you've used R or even the pandas library with Python you are probably already familiar with the concept of DataFrames. Spark DataFrame expand on a lot of these concepts, allowing you to transfer that knowledge easily by understanding the simple syntax of Spark DataFrames. Remember that the main advantage to using Spark DataFrames vs those other programs is that Spark can handle data across many RDDs, huge data sets that would never fit on a single computer. That comes at a slight cost of some \"peculiar\" syntax choices, but after this course you will feel very comfortable with all those topics!\n",
        "\n",
        "Let's get started!\n",
        "\n",
        "## Creating a DataFrame\n",
        "\n",
        "First we need to start a SparkSession:"
      ]
    },
    {
      "cell_type": "code",
      "metadata": {
        "id": "SpncoBE6nkxG",
        "outputId": "9d2b66c0-2252-4149-f377-be2e27fc8ec9",
        "colab": {
          "base_uri": "https://localhost:8080/",
          "height": 258
        }
      },
      "source": [
        "!pip install pyspark"
      ],
      "execution_count": 3,
      "outputs": [
        {
          "output_type": "stream",
          "text": [
            "Collecting pyspark\n",
            "\u001b[?25l  Downloading https://files.pythonhosted.org/packages/f0/26/198fc8c0b98580f617cb03cb298c6056587b8f0447e20fa40c5b634ced77/pyspark-3.0.1.tar.gz (204.2MB)\n",
            "\u001b[K     |████████████████████████████████| 204.2MB 61kB/s \n",
            "\u001b[?25hCollecting py4j==0.10.9\n",
            "\u001b[?25l  Downloading https://files.pythonhosted.org/packages/9e/b6/6a4fb90cd235dc8e265a6a2067f2a2c99f0d91787f06aca4bcf7c23f3f80/py4j-0.10.9-py2.py3-none-any.whl (198kB)\n",
            "\u001b[K     |████████████████████████████████| 204kB 39.0MB/s \n",
            "\u001b[?25hBuilding wheels for collected packages: pyspark\n",
            "  Building wheel for pyspark (setup.py) ... \u001b[?25l\u001b[?25hdone\n",
            "  Created wheel for pyspark: filename=pyspark-3.0.1-py2.py3-none-any.whl size=204612243 sha256=c35f66940cd44d01b9eb1932c6a05a4bbbfe9f6602dca62b30e5e8bc90c9ac2d\n",
            "  Stored in directory: /root/.cache/pip/wheels/5e/bd/07/031766ca628adec8435bb40f0bd83bb676ce65ff4007f8e73f\n",
            "Successfully built pyspark\n",
            "Installing collected packages: py4j, pyspark\n",
            "Successfully installed py4j-0.10.9 pyspark-3.0.1\n"
          ],
          "name": "stdout"
        }
      ]
    },
    {
      "cell_type": "code",
      "metadata": {
        "id": "ncHLempFg209"
      },
      "source": [
        "from pyspark.sql import SparkSession"
      ],
      "execution_count": 4,
      "outputs": []
    },
    {
      "cell_type": "markdown",
      "metadata": {
        "id": "bXqefTNwg21D"
      },
      "source": [
        "Then start the SparkSession"
      ]
    },
    {
      "cell_type": "code",
      "metadata": {
        "id": "KK8bTTUxg21E"
      },
      "source": [
        "# May take a little while on a local computer\n",
        "spark = SparkSession.builder.appName(\"Basics\").getOrCreate()"
      ],
      "execution_count": 6,
      "outputs": []
    },
    {
      "cell_type": "code",
      "metadata": {
        "id": "xxclxjiyg21J",
        "outputId": "3a41487e-aede-4561-8b43-cf82f39771a4",
        "colab": {
          "base_uri": "https://localhost:8080/",
          "height": 216
        }
      },
      "source": [
        "spark"
      ],
      "execution_count": 7,
      "outputs": [
        {
          "output_type": "execute_result",
          "data": {
            "text/html": [
              "\n",
              "            <div>\n",
              "                <p><b>SparkSession - in-memory</b></p>\n",
              "                \n",
              "        <div>\n",
              "            <p><b>SparkContext</b></p>\n",
              "\n",
              "            <p><a href=\"http://fca529c9fb80:4040\">Spark UI</a></p>\n",
              "\n",
              "            <dl>\n",
              "              <dt>Version</dt>\n",
              "                <dd><code>v3.0.1</code></dd>\n",
              "              <dt>Master</dt>\n",
              "                <dd><code>local[*]</code></dd>\n",
              "              <dt>AppName</dt>\n",
              "                <dd><code>Basics</code></dd>\n",
              "            </dl>\n",
              "        </div>\n",
              "        \n",
              "            </div>\n",
              "        "
            ],
            "text/plain": [
              "<pyspark.sql.session.SparkSession at 0x7f98805c4550>"
            ]
          },
          "metadata": {
            "tags": []
          },
          "execution_count": 7
        }
      ]
    },
    {
      "cell_type": "code",
      "metadata": {
        "id": "LkHDxLgcg21O"
      },
      "source": [
        "# We'll discuss how to read other options later.\n",
        "# This dataset is from Spark's examples\n",
        "\n",
        "# Might be a little slow locally\n",
        "df = spark.read.json('/content/people.json')"
      ],
      "execution_count": 8,
      "outputs": []
    },
    {
      "cell_type": "markdown",
      "metadata": {
        "id": "2tr0MJcUg21W"
      },
      "source": [
        "#### Showing the data"
      ]
    },
    {
      "cell_type": "code",
      "metadata": {
        "id": "cmVvdLxyg21Y",
        "outputId": "ae717d5a-2725-4396-f18b-396b6c9edad7",
        "colab": {
          "base_uri": "https://localhost:8080/",
          "height": 153
        }
      },
      "source": [
        "# Note how data is missing!\n",
        "df.show()"
      ],
      "execution_count": 9,
      "outputs": [
        {
          "output_type": "stream",
          "text": [
            "+----+-------+\n",
            "| age|   name|\n",
            "+----+-------+\n",
            "|null|Michael|\n",
            "|  30|   Andy|\n",
            "|  19| Justin|\n",
            "+----+-------+\n",
            "\n"
          ],
          "name": "stdout"
        }
      ]
    },
    {
      "cell_type": "code",
      "metadata": {
        "id": "Q1ouk6d8g21c",
        "outputId": "b6bd3342-9914-4353-96df-c79d8abfb042",
        "colab": {
          "base_uri": "https://localhost:8080/",
          "height": 85
        }
      },
      "source": [
        "df.printSchema()"
      ],
      "execution_count": 10,
      "outputs": [
        {
          "output_type": "stream",
          "text": [
            "root\n",
            " |-- age: long (nullable = true)\n",
            " |-- name: string (nullable = true)\n",
            "\n"
          ],
          "name": "stdout"
        }
      ]
    },
    {
      "cell_type": "code",
      "metadata": {
        "id": "osvAUWzQg21h",
        "outputId": "f150a3d4-d349-482a-ca15-123cf2b96d75",
        "colab": {
          "base_uri": "https://localhost:8080/",
          "height": 34
        }
      },
      "source": [
        "df.columns"
      ],
      "execution_count": 11,
      "outputs": [
        {
          "output_type": "execute_result",
          "data": {
            "text/plain": [
              "['age', 'name']"
            ]
          },
          "metadata": {
            "tags": []
          },
          "execution_count": 11
        }
      ]
    },
    {
      "cell_type": "code",
      "metadata": {
        "id": "FGdRP52ag21m",
        "outputId": "3e78960c-552d-4bd8-cf91-e92e691b6fbd",
        "colab": {
          "base_uri": "https://localhost:8080/",
          "height": 34
        }
      },
      "source": [
        "df.describe()"
      ],
      "execution_count": 12,
      "outputs": [
        {
          "output_type": "execute_result",
          "data": {
            "text/plain": [
              "DataFrame[summary: string, age: string, name: string]"
            ]
          },
          "metadata": {
            "tags": []
          },
          "execution_count": 12
        }
      ]
    },
    {
      "cell_type": "code",
      "metadata": {
        "id": "ClPylQtYg21r",
        "outputId": "c1dbd2ff-95e7-42f9-fbca-67762bcd60e2",
        "colab": {
          "base_uri": "https://localhost:8080/",
          "height": 187
        }
      },
      "source": [
        "df.describe().show()"
      ],
      "execution_count": 13,
      "outputs": [
        {
          "output_type": "stream",
          "text": [
            "+-------+------------------+-------+\n",
            "|summary|               age|   name|\n",
            "+-------+------------------+-------+\n",
            "|  count|                 2|      3|\n",
            "|   mean|              24.5|   null|\n",
            "| stddev|7.7781745930520225|   null|\n",
            "|    min|                19|   Andy|\n",
            "|    max|                30|Michael|\n",
            "+-------+------------------+-------+\n",
            "\n"
          ],
          "name": "stdout"
        }
      ]
    },
    {
      "cell_type": "markdown",
      "metadata": {
        "id": "bpt5_RSYg21u"
      },
      "source": [
        "Some data types make it easier to infer schema (like tabular formats such as csv which we will show later). \n",
        "\n",
        "However you often have to set the schema yourself if you aren't dealing with a .read method that doesn't have inferSchema() built-in.\n",
        "\n",
        "Spark has all the tools you need for this, it just requires a very specific structure:"
      ]
    },
    {
      "cell_type": "code",
      "metadata": {
        "id": "Sl2m4cUZg21v"
      },
      "source": [
        "from pyspark.sql.types import StructField,StringType,IntegerType,StructType"
      ],
      "execution_count": 14,
      "outputs": []
    },
    {
      "cell_type": "markdown",
      "metadata": {
        "id": "PganAAupg21z"
      },
      "source": [
        "Next we need to create the list of Structure fields\n",
        "    * :param name: string, name of the field.\n",
        "    * :param dataType: :class:`DataType` of the field.\n",
        "    * :param nullable: boolean, whether the field can be null (None) or not."
      ]
    },
    {
      "cell_type": "code",
      "metadata": {
        "id": "rCYVA4XCg210"
      },
      "source": [
        "data_schema = [StructField(\"age\", IntegerType(), True),StructField(\"name\", StringType(), True)]"
      ],
      "execution_count": 16,
      "outputs": []
    },
    {
      "cell_type": "code",
      "metadata": {
        "id": "_FoCcAoDg214"
      },
      "source": [
        "final_struc = StructType(fields=data_schema)"
      ],
      "execution_count": 17,
      "outputs": []
    },
    {
      "cell_type": "code",
      "metadata": {
        "id": "NgxucJJhg217"
      },
      "source": [
        "df = spark.read.json('people.json', schema=final_struc)"
      ],
      "execution_count": 18,
      "outputs": []
    },
    {
      "cell_type": "code",
      "metadata": {
        "id": "XldOIzmIg21_",
        "outputId": "394acad7-7e67-4117-9b05-81db0a8e423c",
        "colab": {
          "base_uri": "https://localhost:8080/",
          "height": 85
        }
      },
      "source": [
        "df.printSchema()"
      ],
      "execution_count": 19,
      "outputs": [
        {
          "output_type": "stream",
          "text": [
            "root\n",
            " |-- age: integer (nullable = true)\n",
            " |-- name: string (nullable = true)\n",
            "\n"
          ],
          "name": "stdout"
        }
      ]
    },
    {
      "cell_type": "markdown",
      "metadata": {
        "id": "03u5d9MLg22C"
      },
      "source": [
        "### Grabbing the data"
      ]
    },
    {
      "cell_type": "code",
      "metadata": {
        "id": "YdEYHmRQg22E",
        "outputId": "63c41edc-8de8-43aa-cba2-a09da51bfaaf",
        "colab": {
          "base_uri": "https://localhost:8080/",
          "height": 34
        }
      },
      "source": [
        "df['age']"
      ],
      "execution_count": 20,
      "outputs": [
        {
          "output_type": "execute_result",
          "data": {
            "text/plain": [
              "Column<b'age'>"
            ]
          },
          "metadata": {
            "tags": []
          },
          "execution_count": 20
        }
      ]
    },
    {
      "cell_type": "code",
      "metadata": {
        "id": "xCocSQSbg22K",
        "outputId": "adab2a7e-6066-44bc-e9ad-1cf714f72479",
        "colab": {
          "base_uri": "https://localhost:8080/",
          "height": 34
        }
      },
      "source": [
        "type(df['age'])"
      ],
      "execution_count": 21,
      "outputs": [
        {
          "output_type": "execute_result",
          "data": {
            "text/plain": [
              "pyspark.sql.column.Column"
            ]
          },
          "metadata": {
            "tags": []
          },
          "execution_count": 21
        }
      ]
    },
    {
      "cell_type": "code",
      "metadata": {
        "id": "vAXd_Or7g22N",
        "outputId": "595c14c8-2915-4959-92a4-683f13ebd796",
        "colab": {
          "base_uri": "https://localhost:8080/",
          "height": 34
        }
      },
      "source": [
        "df.select('age')"
      ],
      "execution_count": 22,
      "outputs": [
        {
          "output_type": "execute_result",
          "data": {
            "text/plain": [
              "DataFrame[age: int]"
            ]
          },
          "metadata": {
            "tags": []
          },
          "execution_count": 22
        }
      ]
    },
    {
      "cell_type": "code",
      "metadata": {
        "id": "klp68tm-g22R",
        "outputId": "8ab2358a-eef4-4673-98f5-811453800ed1",
        "colab": {
          "base_uri": "https://localhost:8080/",
          "height": 34
        }
      },
      "source": [
        "type(df.select('age'))"
      ],
      "execution_count": 23,
      "outputs": [
        {
          "output_type": "execute_result",
          "data": {
            "text/plain": [
              "pyspark.sql.dataframe.DataFrame"
            ]
          },
          "metadata": {
            "tags": []
          },
          "execution_count": 23
        }
      ]
    },
    {
      "cell_type": "code",
      "metadata": {
        "id": "upElwr03g22a",
        "outputId": "803eae5e-0cb1-4de7-ee7d-5cbde79c65ca",
        "colab": {
          "base_uri": "https://localhost:8080/",
          "height": 153
        }
      },
      "source": [
        "df.select('age').show()"
      ],
      "execution_count": 24,
      "outputs": [
        {
          "output_type": "stream",
          "text": [
            "+----+\n",
            "| age|\n",
            "+----+\n",
            "|null|\n",
            "|  30|\n",
            "|  19|\n",
            "+----+\n",
            "\n"
          ],
          "name": "stdout"
        }
      ]
    },
    {
      "cell_type": "code",
      "metadata": {
        "id": "QxdGUCr6g22f",
        "outputId": "442aac58-93ec-4401-9ea0-8918d2c2a5c8",
        "colab": {
          "base_uri": "https://localhost:8080/",
          "height": 34
        }
      },
      "source": [
        "# Returns list of Row objects\n",
        "df.head(2)"
      ],
      "execution_count": 25,
      "outputs": [
        {
          "output_type": "execute_result",
          "data": {
            "text/plain": [
              "[Row(age=None, name='Michael'), Row(age=30, name='Andy')]"
            ]
          },
          "metadata": {
            "tags": []
          },
          "execution_count": 25
        }
      ]
    },
    {
      "cell_type": "markdown",
      "metadata": {
        "id": "Y3hxW2qrg22j"
      },
      "source": [
        "Multiple Columns:"
      ]
    },
    {
      "cell_type": "code",
      "metadata": {
        "id": "GW6ZVaKvg22l",
        "outputId": "20aac225-2bb9-48e5-a0f5-107d70e3453a",
        "colab": {
          "base_uri": "https://localhost:8080/",
          "height": 34
        }
      },
      "source": [
        "df.select(['age','name'])"
      ],
      "execution_count": 26,
      "outputs": [
        {
          "output_type": "execute_result",
          "data": {
            "text/plain": [
              "DataFrame[age: int, name: string]"
            ]
          },
          "metadata": {
            "tags": []
          },
          "execution_count": 26
        }
      ]
    },
    {
      "cell_type": "code",
      "metadata": {
        "id": "ftBIbaK2g22p",
        "outputId": "253efdc9-76d9-4661-ccbf-f8594bd93bf3",
        "colab": {
          "base_uri": "https://localhost:8080/",
          "height": 153
        }
      },
      "source": [
        "df.select(['age','name']).show()"
      ],
      "execution_count": 27,
      "outputs": [
        {
          "output_type": "stream",
          "text": [
            "+----+-------+\n",
            "| age|   name|\n",
            "+----+-------+\n",
            "|null|Michael|\n",
            "|  30|   Andy|\n",
            "|  19| Justin|\n",
            "+----+-------+\n",
            "\n"
          ],
          "name": "stdout"
        }
      ]
    },
    {
      "cell_type": "markdown",
      "metadata": {
        "id": "ybGz6yMSg22t"
      },
      "source": [
        "### Creating new columns"
      ]
    },
    {
      "cell_type": "code",
      "metadata": {
        "id": "7VFeJgTjg22v",
        "outputId": "9ab219b9-fad5-496e-a3a5-8ed35a679e4f",
        "colab": {
          "base_uri": "https://localhost:8080/",
          "height": 153
        }
      },
      "source": [
        "# Adding a new column with a simple copy\n",
        "df.withColumn('newage',df['age']).show()"
      ],
      "execution_count": 28,
      "outputs": [
        {
          "output_type": "stream",
          "text": [
            "+----+-------+------+\n",
            "| age|   name|newage|\n",
            "+----+-------+------+\n",
            "|null|Michael|  null|\n",
            "|  30|   Andy|    30|\n",
            "|  19| Justin|    19|\n",
            "+----+-------+------+\n",
            "\n"
          ],
          "name": "stdout"
        }
      ]
    },
    {
      "cell_type": "code",
      "metadata": {
        "id": "RArOcRMzg22z",
        "outputId": "cabc4a2a-49b5-4e8e-ba41-41e83d12d53b",
        "colab": {
          "base_uri": "https://localhost:8080/",
          "height": 153
        }
      },
      "source": [
        "df.show()"
      ],
      "execution_count": 29,
      "outputs": [
        {
          "output_type": "stream",
          "text": [
            "+----+-------+\n",
            "| age|   name|\n",
            "+----+-------+\n",
            "|null|Michael|\n",
            "|  30|   Andy|\n",
            "|  19| Justin|\n",
            "+----+-------+\n",
            "\n"
          ],
          "name": "stdout"
        }
      ]
    },
    {
      "cell_type": "code",
      "metadata": {
        "id": "h7EuqPtgg225",
        "outputId": "e4fc3ba3-4fc4-4d26-bd53-81767a85fbb6",
        "colab": {
          "base_uri": "https://localhost:8080/",
          "height": 153
        }
      },
      "source": [
        "# Simple Rename\n",
        "df.withColumnRenamed('age','supernewage').show()"
      ],
      "execution_count": 30,
      "outputs": [
        {
          "output_type": "stream",
          "text": [
            "+-----------+-------+\n",
            "|supernewage|   name|\n",
            "+-----------+-------+\n",
            "|       null|Michael|\n",
            "|         30|   Andy|\n",
            "|         19| Justin|\n",
            "+-----------+-------+\n",
            "\n"
          ],
          "name": "stdout"
        }
      ]
    },
    {
      "cell_type": "markdown",
      "metadata": {
        "id": "o31JXufAg229"
      },
      "source": [
        "More complicated operations to create new columns"
      ]
    },
    {
      "cell_type": "code",
      "metadata": {
        "id": "P-YCnW_eg22-",
        "outputId": "7decf5ce-4b2c-47d0-d9c0-19136087656c",
        "colab": {
          "base_uri": "https://localhost:8080/",
          "height": 153
        }
      },
      "source": [
        "df.withColumn('doubleage',df['age']*2).show()"
      ],
      "execution_count": 31,
      "outputs": [
        {
          "output_type": "stream",
          "text": [
            "+----+-------+---------+\n",
            "| age|   name|doubleage|\n",
            "+----+-------+---------+\n",
            "|null|Michael|     null|\n",
            "|  30|   Andy|       60|\n",
            "|  19| Justin|       38|\n",
            "+----+-------+---------+\n",
            "\n"
          ],
          "name": "stdout"
        }
      ]
    },
    {
      "cell_type": "code",
      "metadata": {
        "id": "7hZnfRrgg23C",
        "outputId": "3a414a5b-ce72-4091-9764-4d5016ab653c",
        "colab": {
          "base_uri": "https://localhost:8080/",
          "height": 153
        }
      },
      "source": [
        "df.withColumn('add_one_age',df['age']+1).show()"
      ],
      "execution_count": 32,
      "outputs": [
        {
          "output_type": "stream",
          "text": [
            "+----+-------+-----------+\n",
            "| age|   name|add_one_age|\n",
            "+----+-------+-----------+\n",
            "|null|Michael|       null|\n",
            "|  30|   Andy|         31|\n",
            "|  19| Justin|         20|\n",
            "+----+-------+-----------+\n",
            "\n"
          ],
          "name": "stdout"
        }
      ]
    },
    {
      "cell_type": "code",
      "metadata": {
        "id": "E92vcDM_g23G",
        "outputId": "a8c2350c-f700-42c7-ffde-5ffefa826664",
        "colab": {
          "base_uri": "https://localhost:8080/",
          "height": 153
        }
      },
      "source": [
        "df.withColumn('half_age',df['age']/2).show()"
      ],
      "execution_count": 33,
      "outputs": [
        {
          "output_type": "stream",
          "text": [
            "+----+-------+--------+\n",
            "| age|   name|half_age|\n",
            "+----+-------+--------+\n",
            "|null|Michael|    null|\n",
            "|  30|   Andy|    15.0|\n",
            "|  19| Justin|     9.5|\n",
            "+----+-------+--------+\n",
            "\n"
          ],
          "name": "stdout"
        }
      ]
    },
    {
      "cell_type": "code",
      "metadata": {
        "id": "mEZy6m8pg23K",
        "outputId": "baa11fe9-06b3-472a-c261-3b4aa1c08d76",
        "colab": {
          "base_uri": "https://localhost:8080/",
          "height": 34
        }
      },
      "source": [
        "df.withColumn('half_age',df['age']/2)"
      ],
      "execution_count": 34,
      "outputs": [
        {
          "output_type": "execute_result",
          "data": {
            "text/plain": [
              "DataFrame[age: int, name: string, half_age: double]"
            ]
          },
          "metadata": {
            "tags": []
          },
          "execution_count": 34
        }
      ]
    },
    {
      "cell_type": "markdown",
      "metadata": {
        "id": "DLvhAOSXg23P"
      },
      "source": [
        "### Using SQL\n",
        "\n",
        "To use SQL queries directly with the dataframe, you will need to register it to a temporary view:"
      ]
    },
    {
      "cell_type": "code",
      "metadata": {
        "id": "NTRLH1mxg23Q"
      },
      "source": [
        "# Register the DataFrame as a SQL temporary view\n",
        "df.createOrReplaceTempView(\"people\")"
      ],
      "execution_count": 35,
      "outputs": []
    },
    {
      "cell_type": "code",
      "metadata": {
        "id": "pajYeGaKg23T"
      },
      "source": [
        "sql_results = spark.sql(\"SELECT * FROM people\")"
      ],
      "execution_count": 36,
      "outputs": []
    },
    {
      "cell_type": "code",
      "metadata": {
        "id": "bavUIaHDg23V",
        "outputId": "a426cc2a-a7ab-43ce-fd45-0cda38750a00",
        "colab": {
          "base_uri": "https://localhost:8080/",
          "height": 34
        }
      },
      "source": [
        "sql_results"
      ],
      "execution_count": 37,
      "outputs": [
        {
          "output_type": "execute_result",
          "data": {
            "text/plain": [
              "DataFrame[age: int, name: string]"
            ]
          },
          "metadata": {
            "tags": []
          },
          "execution_count": 37
        }
      ]
    },
    {
      "cell_type": "code",
      "metadata": {
        "id": "8Xm5kEGEg23Y",
        "outputId": "ca8c3337-d0dd-4cda-d192-18874f5e1d4d",
        "colab": {
          "base_uri": "https://localhost:8080/",
          "height": 153
        }
      },
      "source": [
        "sql_results.show()"
      ],
      "execution_count": 38,
      "outputs": [
        {
          "output_type": "stream",
          "text": [
            "+----+-------+\n",
            "| age|   name|\n",
            "+----+-------+\n",
            "|null|Michael|\n",
            "|  30|   Andy|\n",
            "|  19| Justin|\n",
            "+----+-------+\n",
            "\n"
          ],
          "name": "stdout"
        }
      ]
    },
    {
      "cell_type": "code",
      "metadata": {
        "id": "qobTaw6eg23b",
        "outputId": "83f33517-0f6a-4725-cfb8-a8202c2ce2ca",
        "colab": {
          "base_uri": "https://localhost:8080/",
          "height": 119
        }
      },
      "source": [
        "spark.sql(\"SELECT * FROM people WHERE age=30\").show()"
      ],
      "execution_count": 39,
      "outputs": [
        {
          "output_type": "stream",
          "text": [
            "+---+----+\n",
            "|age|name|\n",
            "+---+----+\n",
            "| 30|Andy|\n",
            "+---+----+\n",
            "\n"
          ],
          "name": "stdout"
        }
      ]
    },
    {
      "cell_type": "code",
      "metadata": {
        "id": "LbcoBRjjg23d",
        "outputId": "c85b2d99-8132-4f0f-d5b1-735fad3794fe",
        "colab": {
          "base_uri": "https://localhost:8080/",
          "height": 119
        }
      },
      "source": [
        "# DataFrame approach\n",
        "df.filter(df.age == 30).show()"
      ],
      "execution_count": 40,
      "outputs": [
        {
          "output_type": "stream",
          "text": [
            "+---+----+\n",
            "|age|name|\n",
            "+---+----+\n",
            "| 30|Andy|\n",
            "+---+----+\n",
            "\n"
          ],
          "name": "stdout"
        }
      ]
    },
    {
      "cell_type": "markdown",
      "metadata": {
        "id": "Xq45GQRug23g"
      },
      "source": [
        "We won't really be focusing on using the SQL syntax for this course in general, but keep in mind it is always there for you to get you out of bind quickly with your SQL skills!"
      ]
    },
    {
      "cell_type": "markdown",
      "metadata": {
        "id": "geBXg-YHg23h"
      },
      "source": [
        "Alright that is all we need to know for now!"
      ]
    },
    {
      "cell_type": "code",
      "metadata": {
        "id": "5JezMbAzg23i"
      },
      "source": [
        ""
      ],
      "execution_count": 40,
      "outputs": []
    }
  ]
}